{
 "cells": [
  {
   "cell_type": "code",
   "execution_count": 4,
   "metadata": {},
   "outputs": [],
   "source": [
    "import os\n",
    "from PIL import Image\n",
    "from PIL import ImageOps\n",
    "from array import *\n",
    "from random import shuffle"
   ]
  },
  {
   "cell_type": "code",
   "execution_count": 5,
   "metadata": {},
   "outputs": [],
   "source": [
    "# Load from and save to\n",
    "Names = [['./training-images','train'], ['./test-images','test']]"
   ]
  },
  {
   "cell_type": "code",
   "execution_count": 6,
   "metadata": {},
   "outputs": [],
   "source": [
    "for name in Names:\n",
    "\t\n",
    "\tdata_image = array('B')\n",
    "\tdata_label = array('B')\n",
    "\n",
    "\tFileList = []\n",
    "\tfor dirname in os.listdir(name[0])[0:]: # [1:] Excludes .DS_Store from Mac OS\n",
    "\t\tpath = os.path.join(name[0],dirname)\n",
    "\t\tfor filename in os.listdir(path):\n",
    "\t\t\tif filename.endswith(\".png\"):\n",
    "\t\t\t\tFileList.append(os.path.join(name[0],dirname,filename))\n",
    "\n",
    "\tshuffle(FileList) # Usefull for further segmenting the validation set\n",
    "\n",
    "\tfor filename in FileList:\n",
    "\n",
    "\t\tlabel = int(filename.split('\\\\')[1])\n",
    "\n",
    "\t\tIm = Image.open(filename)\n",
    "\t\tIm = ImageOps.invert(Im)\n",
    "\n",
    "\t\tpixel = Im.load()\n",
    "\n",
    "\t\twidth, height = Im.size\n",
    "\n",
    "\t\tfor x in range(0,width):\n",
    "\t\t\tfor y in range(0,height):\n",
    "\t\t\t\tdata_image.append(pixel[y,x][0])\n",
    "\n",
    "\t\tdata_label.append(label) # labels start (one unsigned byte each)\n",
    "\n",
    "\thexval = \"{0:#0{1}x}\".format(len(FileList),6) # number of files in HEX\n",
    "\n",
    "\t# header for label array\n",
    "\n",
    "\theader = array('B')\n",
    "\theader.extend([0,0,8,1,0,0])\n",
    "\theader.append(int('0x'+hexval[2:][:2],16))\n",
    "\theader.append(int('0x'+hexval[2:][2:],16))\n",
    "\t\n",
    "\tdata_label = header + data_label\n",
    "\n",
    "\t# additional header for images array\n",
    "\t\n",
    "\tif max([width,height]) <= 256:\n",
    "\t\theader.extend([0,0,0,width,0,0,0,height])\n",
    "\telse:\n",
    "\t\traise ValueError('Image exceeds maximum size: 256x256 pixels');\n",
    "\n",
    "\theader[4] = 4 # Changing MSB for image data (0x00000803)\n",
    "\t\n",
    "\tdata_image = header + data_image\n",
    "\n",
    "\toutput_file = open(name[1]+'-images-idx3-ubyte', 'wb')\n",
    "\tdata_image.tofile(output_file)\n",
    "\toutput_file.close()\n",
    "\n",
    "\toutput_file = open(name[1]+'-labels-idx1-ubyte', 'wb')\n",
    "\tdata_label.tofile(output_file)\n",
    "\toutput_file.close()"
   ]
  },
  {
   "cell_type": "code",
   "execution_count": 7,
   "metadata": {},
   "outputs": [],
   "source": [
    "# gzip resulting files\n",
    "\n",
    "for name in Names:\n",
    "\tos.system('gzip '+name[1]+'-images-idx3-ubyte')\n",
    "\tos.system('gzip '+name[1]+'-labels-idx1-ubyte')\n",
    "\n"
   ]
  },
  {
   "cell_type": "code",
   "execution_count": null,
   "metadata": {},
   "outputs": [],
   "source": []
  },
  {
   "cell_type": "code",
   "execution_count": null,
   "metadata": {},
   "outputs": [],
   "source": []
  }
 ],
 "metadata": {
  "kernelspec": {
   "display_name": "Python 3",
   "language": "python",
   "name": "python3"
  },
  "language_info": {
   "codemirror_mode": {
    "name": "ipython",
    "version": 3
   },
   "file_extension": ".py",
   "mimetype": "text/x-python",
   "name": "python",
   "nbconvert_exporter": "python",
   "pygments_lexer": "ipython3",
   "version": "3.7.2"
  }
 },
 "nbformat": 4,
 "nbformat_minor": 2
}
