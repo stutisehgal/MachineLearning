{
  "nbformat": 4,
  "nbformat_minor": 0,
  "metadata": {
    "colab": {
      "name": "Wine Quality.ipynb",
      "provenance": [],
      "collapsed_sections": [],
      "authorship_tag": "ABX9TyOa3rOtVtX/1t3Yy2oPP8fb",
      "include_colab_link": true
    },
    "kernelspec": {
      "name": "python3",
      "display_name": "Python 3"
    }
  },
  "cells": [
    {
      "cell_type": "markdown",
      "metadata": {
        "id": "view-in-github",
        "colab_type": "text"
      },
      "source": [
        "<a href=\"https://colab.research.google.com/github/stutisehgal/MachineLearning/blob/master/Wine_Quality.ipynb\" target=\"_parent\"><img src=\"https://colab.research.google.com/assets/colab-badge.svg\" alt=\"Open In Colab\"/></a>"
      ]
    },
    {
      "cell_type": "markdown",
      "metadata": {
        "id": "pNUjLAVjWqyF",
        "colab_type": "text"
      },
      "source": [
        "Take into account various input features like fixed acidity, volatile acidity, citric acid, residual sugar, chlorides, free sulfur dioxide, total sulfur dioxide, density, pH, sulphates, alcohol to predict the quality of the wine.\n",
        "The task here is to predict the quality of red wine on a scale of 0–10 given a set of features as inputs."
      ]
    },
    {
      "cell_type": "code",
      "metadata": {
        "id": "_au3k-uSW1Jb",
        "colab_type": "code",
        "colab": {}
      },
      "source": [
        "import pandas as pd\n",
        "import numpy as np\n",
        "import matplotlib.pyplot as plt"
      ],
      "execution_count": 0,
      "outputs": []
    },
    {
      "cell_type": "code",
      "metadata": {
        "id": "xFus93YsXfSp",
        "colab_type": "code",
        "colab": {}
      },
      "source": [
        "dataset=pd.read_csv('winequality-red.csv')\n",
        "X = dataset.iloc[ : , : -1].values # 11 independent features in dataset\n",
        "y = dataset.iloc[ : , -1].values   # 1 dependent target output in dataset"
      ],
      "execution_count": 0,
      "outputs": []
    },
    {
      "cell_type": "markdown",
      "metadata": {
        "id": "bArGrKNcYEnl",
        "colab_type": "text"
      },
      "source": [
        "Handling missing data and encoding categorical values"
      ]
    },
    {
      "cell_type": "code",
      "metadata": {
        "id": "XePDWAfSX6oI",
        "colab_type": "code",
        "outputId": "752be946-8707-4b90-c29d-a30880f1e174",
        "colab": {
          "base_uri": "https://localhost:8080/",
          "height": 248
        }
      },
      "source": [
        "dataset.isnull().sum()"
      ],
      "execution_count": 122,
      "outputs": [
        {
          "output_type": "execute_result",
          "data": {
            "text/plain": [
              "fixed acidity           0\n",
              "volatile acidity        0\n",
              "citric acid             0\n",
              "residual sugar          0\n",
              "chlorides               0\n",
              "free sulfur dioxide     0\n",
              "total sulfur dioxide    0\n",
              "density                 0\n",
              "pH                      0\n",
              "sulphates               0\n",
              "alcohol                 0\n",
              "quality                 0\n",
              "dtype: int64"
            ]
          },
          "metadata": {
            "tags": []
          },
          "execution_count": 122
        }
      ]
    },
    {
      "cell_type": "code",
      "metadata": {
        "id": "118EPhrpZ0MB",
        "colab_type": "code",
        "outputId": "f4f279e3-0a73-4700-d9ee-c98f29581415",
        "colab": {
          "base_uri": "https://localhost:8080/",
          "height": 340
        }
      },
      "source": [
        "dataset.head(10) #to know the column labels"
      ],
      "execution_count": 123,
      "outputs": [
        {
          "output_type": "execute_result",
          "data": {
            "text/html": [
              "<div>\n",
              "<style scoped>\n",
              "    .dataframe tbody tr th:only-of-type {\n",
              "        vertical-align: middle;\n",
              "    }\n",
              "\n",
              "    .dataframe tbody tr th {\n",
              "        vertical-align: top;\n",
              "    }\n",
              "\n",
              "    .dataframe thead th {\n",
              "        text-align: right;\n",
              "    }\n",
              "</style>\n",
              "<table border=\"1\" class=\"dataframe\">\n",
              "  <thead>\n",
              "    <tr style=\"text-align: right;\">\n",
              "      <th></th>\n",
              "      <th>fixed acidity</th>\n",
              "      <th>volatile acidity</th>\n",
              "      <th>citric acid</th>\n",
              "      <th>residual sugar</th>\n",
              "      <th>chlorides</th>\n",
              "      <th>free sulfur dioxide</th>\n",
              "      <th>total sulfur dioxide</th>\n",
              "      <th>density</th>\n",
              "      <th>pH</th>\n",
              "      <th>sulphates</th>\n",
              "      <th>alcohol</th>\n",
              "      <th>quality</th>\n",
              "    </tr>\n",
              "  </thead>\n",
              "  <tbody>\n",
              "    <tr>\n",
              "      <th>0</th>\n",
              "      <td>7.4</td>\n",
              "      <td>0.70</td>\n",
              "      <td>0.00</td>\n",
              "      <td>1.9</td>\n",
              "      <td>0.076</td>\n",
              "      <td>11.0</td>\n",
              "      <td>34.0</td>\n",
              "      <td>0.9978</td>\n",
              "      <td>3.51</td>\n",
              "      <td>0.56</td>\n",
              "      <td>9.4</td>\n",
              "      <td>5</td>\n",
              "    </tr>\n",
              "    <tr>\n",
              "      <th>1</th>\n",
              "      <td>7.8</td>\n",
              "      <td>0.88</td>\n",
              "      <td>0.00</td>\n",
              "      <td>2.6</td>\n",
              "      <td>0.098</td>\n",
              "      <td>25.0</td>\n",
              "      <td>67.0</td>\n",
              "      <td>0.9968</td>\n",
              "      <td>3.20</td>\n",
              "      <td>0.68</td>\n",
              "      <td>9.8</td>\n",
              "      <td>5</td>\n",
              "    </tr>\n",
              "    <tr>\n",
              "      <th>2</th>\n",
              "      <td>7.8</td>\n",
              "      <td>0.76</td>\n",
              "      <td>0.04</td>\n",
              "      <td>2.3</td>\n",
              "      <td>0.092</td>\n",
              "      <td>15.0</td>\n",
              "      <td>54.0</td>\n",
              "      <td>0.9970</td>\n",
              "      <td>3.26</td>\n",
              "      <td>0.65</td>\n",
              "      <td>9.8</td>\n",
              "      <td>5</td>\n",
              "    </tr>\n",
              "    <tr>\n",
              "      <th>3</th>\n",
              "      <td>11.2</td>\n",
              "      <td>0.28</td>\n",
              "      <td>0.56</td>\n",
              "      <td>1.9</td>\n",
              "      <td>0.075</td>\n",
              "      <td>17.0</td>\n",
              "      <td>60.0</td>\n",
              "      <td>0.9980</td>\n",
              "      <td>3.16</td>\n",
              "      <td>0.58</td>\n",
              "      <td>9.8</td>\n",
              "      <td>6</td>\n",
              "    </tr>\n",
              "    <tr>\n",
              "      <th>4</th>\n",
              "      <td>7.4</td>\n",
              "      <td>0.70</td>\n",
              "      <td>0.00</td>\n",
              "      <td>1.9</td>\n",
              "      <td>0.076</td>\n",
              "      <td>11.0</td>\n",
              "      <td>34.0</td>\n",
              "      <td>0.9978</td>\n",
              "      <td>3.51</td>\n",
              "      <td>0.56</td>\n",
              "      <td>9.4</td>\n",
              "      <td>5</td>\n",
              "    </tr>\n",
              "    <tr>\n",
              "      <th>5</th>\n",
              "      <td>7.4</td>\n",
              "      <td>0.66</td>\n",
              "      <td>0.00</td>\n",
              "      <td>1.8</td>\n",
              "      <td>0.075</td>\n",
              "      <td>13.0</td>\n",
              "      <td>40.0</td>\n",
              "      <td>0.9978</td>\n",
              "      <td>3.51</td>\n",
              "      <td>0.56</td>\n",
              "      <td>9.4</td>\n",
              "      <td>5</td>\n",
              "    </tr>\n",
              "    <tr>\n",
              "      <th>6</th>\n",
              "      <td>7.9</td>\n",
              "      <td>0.60</td>\n",
              "      <td>0.06</td>\n",
              "      <td>1.6</td>\n",
              "      <td>0.069</td>\n",
              "      <td>15.0</td>\n",
              "      <td>59.0</td>\n",
              "      <td>0.9964</td>\n",
              "      <td>3.30</td>\n",
              "      <td>0.46</td>\n",
              "      <td>9.4</td>\n",
              "      <td>5</td>\n",
              "    </tr>\n",
              "    <tr>\n",
              "      <th>7</th>\n",
              "      <td>7.3</td>\n",
              "      <td>0.65</td>\n",
              "      <td>0.00</td>\n",
              "      <td>1.2</td>\n",
              "      <td>0.065</td>\n",
              "      <td>15.0</td>\n",
              "      <td>21.0</td>\n",
              "      <td>0.9946</td>\n",
              "      <td>3.39</td>\n",
              "      <td>0.47</td>\n",
              "      <td>10.0</td>\n",
              "      <td>7</td>\n",
              "    </tr>\n",
              "    <tr>\n",
              "      <th>8</th>\n",
              "      <td>7.8</td>\n",
              "      <td>0.58</td>\n",
              "      <td>0.02</td>\n",
              "      <td>2.0</td>\n",
              "      <td>0.073</td>\n",
              "      <td>9.0</td>\n",
              "      <td>18.0</td>\n",
              "      <td>0.9968</td>\n",
              "      <td>3.36</td>\n",
              "      <td>0.57</td>\n",
              "      <td>9.5</td>\n",
              "      <td>7</td>\n",
              "    </tr>\n",
              "    <tr>\n",
              "      <th>9</th>\n",
              "      <td>7.5</td>\n",
              "      <td>0.50</td>\n",
              "      <td>0.36</td>\n",
              "      <td>6.1</td>\n",
              "      <td>0.071</td>\n",
              "      <td>17.0</td>\n",
              "      <td>102.0</td>\n",
              "      <td>0.9978</td>\n",
              "      <td>3.35</td>\n",
              "      <td>0.80</td>\n",
              "      <td>10.5</td>\n",
              "      <td>5</td>\n",
              "    </tr>\n",
              "  </tbody>\n",
              "</table>\n",
              "</div>"
            ],
            "text/plain": [
              "   fixed acidity  volatile acidity  citric acid  ...  sulphates  alcohol  quality\n",
              "0            7.4              0.70         0.00  ...       0.56      9.4        5\n",
              "1            7.8              0.88         0.00  ...       0.68      9.8        5\n",
              "2            7.8              0.76         0.04  ...       0.65      9.8        5\n",
              "3           11.2              0.28         0.56  ...       0.58      9.8        6\n",
              "4            7.4              0.70         0.00  ...       0.56      9.4        5\n",
              "5            7.4              0.66         0.00  ...       0.56      9.4        5\n",
              "6            7.9              0.60         0.06  ...       0.46      9.4        5\n",
              "7            7.3              0.65         0.00  ...       0.47     10.0        7\n",
              "8            7.8              0.58         0.02  ...       0.57      9.5        7\n",
              "9            7.5              0.50         0.36  ...       0.80     10.5        5\n",
              "\n",
              "[10 rows x 12 columns]"
            ]
          },
          "metadata": {
            "tags": []
          },
          "execution_count": 123
        }
      ]
    },
    {
      "cell_type": "code",
      "metadata": {
        "id": "F098tQZbZ9Do",
        "colab_type": "code",
        "outputId": "b0333667-d8b8-4aac-958d-ae7a73064f06",
        "colab": {
          "base_uri": "https://localhost:8080/",
          "height": 194
        }
      },
      "source": [
        "dataset.tail() #to know the total number of elements and entries in each column"
      ],
      "execution_count": 124,
      "outputs": [
        {
          "output_type": "execute_result",
          "data": {
            "text/html": [
              "<div>\n",
              "<style scoped>\n",
              "    .dataframe tbody tr th:only-of-type {\n",
              "        vertical-align: middle;\n",
              "    }\n",
              "\n",
              "    .dataframe tbody tr th {\n",
              "        vertical-align: top;\n",
              "    }\n",
              "\n",
              "    .dataframe thead th {\n",
              "        text-align: right;\n",
              "    }\n",
              "</style>\n",
              "<table border=\"1\" class=\"dataframe\">\n",
              "  <thead>\n",
              "    <tr style=\"text-align: right;\">\n",
              "      <th></th>\n",
              "      <th>fixed acidity</th>\n",
              "      <th>volatile acidity</th>\n",
              "      <th>citric acid</th>\n",
              "      <th>residual sugar</th>\n",
              "      <th>chlorides</th>\n",
              "      <th>free sulfur dioxide</th>\n",
              "      <th>total sulfur dioxide</th>\n",
              "      <th>density</th>\n",
              "      <th>pH</th>\n",
              "      <th>sulphates</th>\n",
              "      <th>alcohol</th>\n",
              "      <th>quality</th>\n",
              "    </tr>\n",
              "  </thead>\n",
              "  <tbody>\n",
              "    <tr>\n",
              "      <th>1594</th>\n",
              "      <td>6.2</td>\n",
              "      <td>0.600</td>\n",
              "      <td>0.08</td>\n",
              "      <td>2.0</td>\n",
              "      <td>0.090</td>\n",
              "      <td>32.0</td>\n",
              "      <td>44.0</td>\n",
              "      <td>0.99490</td>\n",
              "      <td>3.45</td>\n",
              "      <td>0.58</td>\n",
              "      <td>10.5</td>\n",
              "      <td>5</td>\n",
              "    </tr>\n",
              "    <tr>\n",
              "      <th>1595</th>\n",
              "      <td>5.9</td>\n",
              "      <td>0.550</td>\n",
              "      <td>0.10</td>\n",
              "      <td>2.2</td>\n",
              "      <td>0.062</td>\n",
              "      <td>39.0</td>\n",
              "      <td>51.0</td>\n",
              "      <td>0.99512</td>\n",
              "      <td>3.52</td>\n",
              "      <td>0.76</td>\n",
              "      <td>11.2</td>\n",
              "      <td>6</td>\n",
              "    </tr>\n",
              "    <tr>\n",
              "      <th>1596</th>\n",
              "      <td>6.3</td>\n",
              "      <td>0.510</td>\n",
              "      <td>0.13</td>\n",
              "      <td>2.3</td>\n",
              "      <td>0.076</td>\n",
              "      <td>29.0</td>\n",
              "      <td>40.0</td>\n",
              "      <td>0.99574</td>\n",
              "      <td>3.42</td>\n",
              "      <td>0.75</td>\n",
              "      <td>11.0</td>\n",
              "      <td>6</td>\n",
              "    </tr>\n",
              "    <tr>\n",
              "      <th>1597</th>\n",
              "      <td>5.9</td>\n",
              "      <td>0.645</td>\n",
              "      <td>0.12</td>\n",
              "      <td>2.0</td>\n",
              "      <td>0.075</td>\n",
              "      <td>32.0</td>\n",
              "      <td>44.0</td>\n",
              "      <td>0.99547</td>\n",
              "      <td>3.57</td>\n",
              "      <td>0.71</td>\n",
              "      <td>10.2</td>\n",
              "      <td>5</td>\n",
              "    </tr>\n",
              "    <tr>\n",
              "      <th>1598</th>\n",
              "      <td>6.0</td>\n",
              "      <td>0.310</td>\n",
              "      <td>0.47</td>\n",
              "      <td>3.6</td>\n",
              "      <td>0.067</td>\n",
              "      <td>18.0</td>\n",
              "      <td>42.0</td>\n",
              "      <td>0.99549</td>\n",
              "      <td>3.39</td>\n",
              "      <td>0.66</td>\n",
              "      <td>11.0</td>\n",
              "      <td>6</td>\n",
              "    </tr>\n",
              "  </tbody>\n",
              "</table>\n",
              "</div>"
            ],
            "text/plain": [
              "      fixed acidity  volatile acidity  citric acid  ...  sulphates  alcohol  quality\n",
              "1594            6.2             0.600         0.08  ...       0.58     10.5        5\n",
              "1595            5.9             0.550         0.10  ...       0.76     11.2        6\n",
              "1596            6.3             0.510         0.13  ...       0.75     11.0        6\n",
              "1597            5.9             0.645         0.12  ...       0.71     10.2        5\n",
              "1598            6.0             0.310         0.47  ...       0.66     11.0        6\n",
              "\n",
              "[5 rows x 12 columns]"
            ]
          },
          "metadata": {
            "tags": []
          },
          "execution_count": 124
        }
      ]
    },
    {
      "cell_type": "code",
      "metadata": {
        "id": "xis7tFkQZ6HV",
        "colab_type": "code",
        "outputId": "cf59a7df-6727-49f2-fe48-6e81f9cbd816",
        "colab": {
          "base_uri": "https://localhost:8080/",
          "height": 35
        }
      },
      "source": [
        "dataset.shape #to know the no. of rows and columns"
      ],
      "execution_count": 125,
      "outputs": [
        {
          "output_type": "execute_result",
          "data": {
            "text/plain": [
              "(1599, 12)"
            ]
          },
          "metadata": {
            "tags": []
          },
          "execution_count": 125
        }
      ]
    },
    {
      "cell_type": "markdown",
      "metadata": {
        "id": "2Sgw9XG57BSq",
        "colab_type": "text"
      },
      "source": [
        "Correlation matrix between different independent features of the variables matrix X"
      ]
    },
    {
      "cell_type": "code",
      "metadata": {
        "id": "V-a1AQ0O3DqT",
        "colab_type": "code",
        "colab": {
          "base_uri": "https://localhost:8080/",
          "height": 371
        },
        "outputId": "d69208d2-3192-43c3-8a5f-0889f76f060d"
      },
      "source": [
        "'''X = df.assign(const=1)\n",
        "pd.Series([variance_inflation_factor(X.values, i) \n",
        "               for i in range(X.shape[1])], \n",
        "              index=X.columns)'''\n",
        "import seaborn as sns\n",
        "sns.heatmap(dataset.corr(),annot=True) \n",
        "#correlation matrix with integer annotation of the values of coefficient\n",
        "#np.corrcoef\n"
      ],
      "execution_count": 126,
      "outputs": [
        {
          "output_type": "execute_result",
          "data": {
            "text/plain": [
              "<matplotlib.axes._subplots.AxesSubplot at 0x7f447c3a5f60>"
            ]
          },
          "metadata": {
            "tags": []
          },
          "execution_count": 126
        },
        {
          "output_type": "display_data",
          "data": {
            "image/png": "[encoded data removed]",
            "text/plain": [
              "<Figure size 432x288 with 2 Axes>"
            ]
          },
          "metadata": {
            "tags": [],
            "needs_background": "light"
          }
        }
      ]
    },
    {
      "cell_type": "code",
      "metadata": {
        "id": "rDW4EtOxST8r",
        "colab_type": "code",
        "colab": {
          "base_uri": "https://localhost:8080/",
          "height": 35
        },
        "outputId": "93be3f9f-6b96-4756-c86d-50e99db4b08a"
      },
      "source": [
        "'''correlations = df.corr()['quality'].drop('quality')\n",
        "print(correlations)'''"
      ],
      "execution_count": 127,
      "outputs": [
        {
          "output_type": "execute_result",
          "data": {
            "text/plain": [
              "\"correlations = df.corr()['quality'].drop('quality')\\nprint(correlations)\""
            ]
          },
          "metadata": {
            "tags": []
          },
          "execution_count": 127
        }
      ]
    },
    {
      "cell_type": "code",
      "metadata": {
        "id": "8qRkJDsnR-k9",
        "colab_type": "code",
        "colab": {}
      },
      "source": [
        "def get_features(correlation_threshold):\n",
        "    abs_corrs = correlations.abs()\n",
        "    high_correlations = abs_corrs\n",
        "    [abs_corrs > correlation_threshold].index.values.tolist()\n",
        "    return high_correlations"
      ],
      "execution_count": 0,
      "outputs": []
    },
    {
      "cell_type": "code",
      "metadata": {
        "id": "BKUBRacoSFWy",
        "colab_type": "code",
        "colab": {
          "base_uri": "https://localhost:8080/",
          "height": 35
        },
        "outputId": "5ef037c4-6d47-4100-d65b-84daf29e9207"
      },
      "source": [
        "# taking features with correlation more than 0.05 as input x and quality as target variable y \n",
        "'''features = get_features(0.05) \n",
        "print(features) \n",
        "x = df[features] \n",
        "y = df['quality']\n",
        "print(X)'''"
      ],
      "execution_count": 129,
      "outputs": [
        {
          "output_type": "execute_result",
          "data": {
            "text/plain": [
              "\"features = get_features(0.05) \\nprint(features) \\nx = df[features] \\ny = df['quality']\\nprint(X)\""
            ]
          },
          "metadata": {
            "tags": []
          },
          "execution_count": 129
        }
      ]
    },
    {
      "cell_type": "code",
      "metadata": {
        "id": "wa0kYSpeYAEK",
        "colab_type": "code",
        "outputId": "9a370b76-4a4d-4733-81fc-3f783da5f06c",
        "colab": {
          "base_uri": "https://localhost:8080/",
          "height": 284
        }
      },
      "source": [
        "from sklearn.model_selection import train_test_split\n",
        "X_train,X_test,y_train,y_test = train_test_split( X, y, test_size=0.2, random_state=0)\n",
        "y_test # 20% of 1600 entries is 320 so test set will have 320 entries"
      ],
      "execution_count": 130,
      "outputs": [
        {
          "output_type": "execute_result",
          "data": {
            "text/plain": [
              "array([6, 5, 7, 6, 5, 6, 5, 6, 4, 5, 5, 5, 6, 5, 6, 6, 7, 5, 5, 4, 7, 6,\n",
              "       6, 4, 6, 5, 5, 7, 5, 6, 5, 6, 5, 6, 7, 7, 5, 6, 6, 7, 5, 7, 6, 6,\n",
              "       5, 5, 6, 6, 6, 5, 5, 5, 6, 6, 6, 5, 5, 5, 6, 5, 5, 6, 6, 6, 5, 6,\n",
              "       5, 5, 6, 6, 6, 6, 4, 6, 5, 6, 5, 5, 5, 6, 6, 5, 6, 6, 6, 5, 6, 5,\n",
              "       5, 5, 5, 6, 4, 5, 7, 6, 6, 5, 6, 5, 8, 6, 6, 6, 5, 5, 5, 5, 7, 5,\n",
              "       6, 5, 7, 5, 6, 6, 6, 7, 6, 6, 5, 7, 5, 5, 6, 6, 5, 5, 5, 6, 6, 6,\n",
              "       6, 6, 6, 5, 6, 5, 8, 5, 6, 5, 6, 5, 4, 6, 7, 6, 5, 6, 6, 5, 5, 5,\n",
              "       6, 6, 3, 6, 6, 6, 6, 6, 6, 6, 5, 5, 6, 6, 6, 6, 5, 5, 5, 8, 5, 6,\n",
              "       6, 7, 7, 5, 5, 7, 5, 6, 6, 4, 5, 6, 5, 5, 6, 5, 6, 6, 5, 5, 5, 5,\n",
              "       5, 5, 5, 6, 6, 5, 6, 6, 5, 6, 7, 6, 6, 6, 5, 5, 5, 6, 5, 6, 6, 5,\n",
              "       5, 5, 6, 6, 5, 6, 6, 6, 3, 6, 5, 5, 7, 6, 7, 6, 6, 7, 7, 6, 5, 6,\n",
              "       5, 5, 6, 5, 5, 5, 5, 6, 5, 5, 5, 6, 6, 5, 5, 5, 6, 7, 5, 6, 5, 6,\n",
              "       5, 4, 5, 5, 6, 7, 6, 5, 5, 4, 5, 6, 7, 6, 6, 7, 5, 7, 5, 6, 6, 5,\n",
              "       5, 5, 6, 6, 5, 6, 6, 6, 5, 6, 6, 5, 6, 5, 6, 5, 6, 6, 6, 6, 5, 5,\n",
              "       6, 5, 5, 6, 5, 5, 5, 6, 4, 5, 4, 6])"
            ]
          },
          "metadata": {
            "tags": []
          },
          "execution_count": 130
        }
      ]
    },
    {
      "cell_type": "markdown",
      "metadata": {
        "id": "1e5WFPR7ZVj7",
        "colab_type": "text"
      },
      "source": [
        "Feature Scaling"
      ]
    },
    {
      "cell_type": "code",
      "metadata": {
        "id": "focXvJSMZYIi",
        "colab_type": "code",
        "outputId": "63758fde-d3ec-497b-ef60-080410a0ba77",
        "colab": {
          "base_uri": "https://localhost:8080/",
          "height": 479
        }
      },
      "source": [
        "from sklearn.preprocessing import StandardScaler\n",
        "ss_X=StandardScaler()\n",
        "X_train = ss_X.fit_transform( X_train )\n",
        "X_test = ss_X.fit_transform( X_test )\n",
        "print(X_train)\n",
        "print(X_test)"
      ],
      "execution_count": 138,
      "outputs": [
        {
          "output_type": "stream",
          "text": [
            "[[ 0.90103398  0.05480282  0.9094138  ...  0.52091013 -0.22358408\n",
            "  -0.95579434]\n",
            " [ 1.41998736 -1.47967601  0.9094138  ... -1.16841553 -0.68130963\n",
            "  -0.76727388]\n",
            " [ 0.90103398 -0.98645067  1.4208416  ... -0.3237527   0.74908272\n",
            "   0.17532846]\n",
            " ...\n",
            " [-0.25219574  0.21921126  0.19341488 ... -0.12883051  0.17692578\n",
            "  -0.86153411]\n",
            " [ 2.68854005 -0.32881689  1.11398492 ... -0.06385645  0.11971008\n",
            "   2.15479335]\n",
            " [ 0.84337249  2.46612668  0.24455766 ... -0.38872677 -1.0246038\n",
            "  -0.95579434]]\n",
            "[[ 1.44653617 -0.29922497  0.8557103  ... -0.93785052  0.72205872\n",
            "   0.31519731]\n",
            " [-0.08433993  1.83333604 -1.39006001 ...  0.28055357 -0.85116573\n",
            "  -0.79369656]\n",
            " [ 0.48265122 -1.39597062  0.33343814 ... -0.36071174  1.26926723\n",
            "   1.14686771]\n",
            " ...\n",
            " [ 0.48265122 -1.09131905  0.80348308 ... -0.87372399 -0.7143636\n",
            "   0.86964424]\n",
            " [ 0.48265122  1.49821931 -1.18115114 ... -0.16833214 -0.78276467\n",
            "  -0.70128874]\n",
            " [-0.02764082 -1.21317968  0.80348308 ... -0.29658521 -0.7143636\n",
            "   1.70131464]]\n"
          ],
          "name": "stdout"
        }
      ]
    },
    {
      "cell_type": "markdown",
      "metadata": {
        "id": "GoL4ldhQZfU_",
        "colab_type": "text"
      },
      "source": [
        "Apply multiple linear regression model"
      ]
    },
    {
      "cell_type": "code",
      "metadata": {
        "id": "19ndR4sUaJof",
        "colab_type": "code",
        "outputId": "130c90e9-febb-41b7-a940-e60397f4fb65",
        "colab": {
          "base_uri": "https://localhost:8080/",
          "height": 35
        }
      },
      "source": [
        "from sklearn.linear_model import LinearRegression\n",
        "lr=LinearRegression()\n",
        "#object of class\n",
        "lr.fit(X_train,y_train)"
      ],
      "execution_count": 132,
      "outputs": [
        {
          "output_type": "execute_result",
          "data": {
            "text/plain": [
              "LinearRegression(copy_X=True, fit_intercept=True, n_jobs=None, normalize=False)"
            ]
          },
          "metadata": {
            "tags": []
          },
          "execution_count": 132
        }
      ]
    },
    {
      "cell_type": "code",
      "metadata": {
        "id": "pcUubxSYaOPS",
        "colab_type": "code",
        "outputId": "70b6877c-ad8d-48a0-95f1-d25b4e316ac2",
        "colab": {
          "base_uri": "https://localhost:8080/",
          "height": 35
        }
      },
      "source": [
        "lr.intercept_"
      ],
      "execution_count": 133,
      "outputs": [
        {
          "output_type": "execute_result",
          "data": {
            "text/plain": [
              "34.998710628721476"
            ]
          },
          "metadata": {
            "tags": []
          },
          "execution_count": 133
        }
      ]
    },
    {
      "cell_type": "code",
      "metadata": {
        "id": "oKF2YY3WaOwm",
        "colab_type": "code",
        "outputId": "25bc29f6-e172-46a8-c2e6-af981121282a",
        "colab": {
          "base_uri": "https://localhost:8080/",
          "height": 370
        }
      },
      "source": [
        "coeff_df = pd.DataFrame({'Coefficient':lr.coef_})  \n",
        "coeff_df"
      ],
      "execution_count": 134,
      "outputs": [
        {
          "output_type": "execute_result",
          "data": {
            "text/html": [
              "<div>\n",
              "<style scoped>\n",
              "    .dataframe tbody tr th:only-of-type {\n",
              "        vertical-align: middle;\n",
              "    }\n",
              "\n",
              "    .dataframe tbody tr th {\n",
              "        vertical-align: top;\n",
              "    }\n",
              "\n",
              "    .dataframe thead th {\n",
              "        text-align: right;\n",
              "    }\n",
              "</style>\n",
              "<table border=\"1\" class=\"dataframe\">\n",
              "  <thead>\n",
              "    <tr style=\"text-align: right;\">\n",
              "      <th></th>\n",
              "      <th>Coefficient</th>\n",
              "    </tr>\n",
              "  </thead>\n",
              "  <tbody>\n",
              "    <tr>\n",
              "      <th>0</th>\n",
              "      <td>0.041284</td>\n",
              "    </tr>\n",
              "    <tr>\n",
              "      <th>1</th>\n",
              "      <td>-1.149528</td>\n",
              "    </tr>\n",
              "    <tr>\n",
              "      <th>2</th>\n",
              "      <td>-0.177927</td>\n",
              "    </tr>\n",
              "    <tr>\n",
              "      <th>3</th>\n",
              "      <td>0.027870</td>\n",
              "    </tr>\n",
              "    <tr>\n",
              "      <th>4</th>\n",
              "      <td>-1.873407</td>\n",
              "    </tr>\n",
              "    <tr>\n",
              "      <th>5</th>\n",
              "      <td>0.002684</td>\n",
              "    </tr>\n",
              "    <tr>\n",
              "      <th>6</th>\n",
              "      <td>-0.002777</td>\n",
              "    </tr>\n",
              "    <tr>\n",
              "      <th>7</th>\n",
              "      <td>-31.516666</td>\n",
              "    </tr>\n",
              "    <tr>\n",
              "      <th>8</th>\n",
              "      <td>-0.254486</td>\n",
              "    </tr>\n",
              "    <tr>\n",
              "      <th>9</th>\n",
              "      <td>0.924040</td>\n",
              "    </tr>\n",
              "    <tr>\n",
              "      <th>10</th>\n",
              "      <td>0.267797</td>\n",
              "    </tr>\n",
              "  </tbody>\n",
              "</table>\n",
              "</div>"
            ],
            "text/plain": [
              "    Coefficient\n",
              "0      0.041284\n",
              "1     -1.149528\n",
              "2     -0.177927\n",
              "3      0.027870\n",
              "4     -1.873407\n",
              "5      0.002684\n",
              "6     -0.002777\n",
              "7    -31.516666\n",
              "8     -0.254486\n",
              "9      0.924040\n",
              "10     0.267797"
            ]
          },
          "metadata": {
            "tags": []
          },
          "execution_count": 134
        }
      ]
    },
    {
      "cell_type": "markdown",
      "metadata": {
        "id": "D3odF4C9biLj",
        "colab_type": "text"
      },
      "source": [
        "This means that for a unit increase in “density”, there is a decrease of 31.51 units in the quality of the wine. Similarly, a unit decrease in “Chlorides“ results in an increase of 1.87 units in the quality of the wine. We can see that the rest of the features have very little effect on the quality of the wine."
      ]
    },
    {
      "cell_type": "markdown",
      "metadata": {
        "id": "8sPritpzamsR",
        "colab_type": "text"
      },
      "source": [
        "Predict test set results"
      ]
    },
    {
      "cell_type": "code",
      "metadata": {
        "id": "O-9pirkRaoya",
        "colab_type": "code",
        "outputId": "fec93228-3180-4fea-ff5d-395325f17b70",
        "colab": {
          "base_uri": "https://localhost:8080/",
          "height": 1000
        }
      },
      "source": [
        "y_pred=lr.predict(X_test)\n",
        "y_pred"
      ],
      "execution_count": 135,
      "outputs": [
        {
          "output_type": "execute_result",
          "data": {
            "text/plain": [
              "array([5.7829301 , 5.03619267, 6.59698929, 5.33912637, 5.93952898,\n",
              "       5.0072068 , 5.39616171, 6.05211188, 4.86760343, 4.95067572,\n",
              "       5.28580441, 5.41265269, 5.7057424 , 5.12921737, 5.52885206,\n",
              "       6.38052412, 6.81012527, 5.73803346, 5.97618825, 5.08613415,\n",
              "       6.34479863, 5.16400983, 5.64203971, 6.1462903 , 5.4817802 ,\n",
              "       5.03391406, 5.18721293, 6.48783659, 5.33301372, 6.30458308,\n",
              "       6.03452293, 5.82849303, 5.58503524, 5.28512701, 5.75656128,\n",
              "       6.15273792, 5.14134479, 5.48228021, 6.38983359, 5.7901819 ,\n",
              "       5.42936928, 6.04810414, 6.70159678, 6.60160183, 5.97253803,\n",
              "       4.78890763, 5.49565005, 6.01881894, 5.48895041, 6.10824243,\n",
              "       5.3126164 , 5.28492351, 5.76043226, 6.36081498, 5.7195388 ,\n",
              "       5.26971928, 5.08498332, 5.31050693, 6.50895816, 5.44323413,\n",
              "       5.16377401, 5.76427324, 6.0703837 , 6.28933679, 5.07315141,\n",
              "       6.11874641, 5.35681067, 6.01343647, 6.12184268, 5.98547673,\n",
              "       5.35327968, 5.4367731 , 5.06017324, 5.58939889, 5.62593935,\n",
              "       6.25651326, 5.37875073, 5.31024191, 5.72008022, 6.30275434,\n",
              "       5.71093253, 5.27783285, 5.89582077, 6.0876033 , 5.50616533,\n",
              "       5.37465715, 6.2437351 , 5.07332478, 5.32665801, 4.97398339,\n",
              "       5.15975198, 5.3222433 , 5.80802642, 5.41018532, 6.20608506,\n",
              "       5.35327968, 6.29102872, 5.3563169 , 5.44615319, 5.91167448,\n",
              "       6.8638794 , 5.95652806, 5.78388971, 6.29371091, 5.59599754,\n",
              "       4.95365311, 5.59599754, 5.42146389, 6.01303846, 5.27638601,\n",
              "       5.88672069, 5.12760247, 6.2448062 , 5.02250118, 5.61019652,\n",
              "       5.78465194, 5.67109764, 6.40669755, 5.80411913, 5.64203971,\n",
              "       5.1425518 , 5.90518858, 5.40535036, 5.08051616, 6.21318148,\n",
              "       6.31555382, 5.31479331, 5.43479319, 6.00371415, 6.44580043,\n",
              "       5.42123137, 5.21176713, 6.0115925 , 5.82456823, 6.30161065,\n",
              "       5.2778688 , 5.89171326, 5.27523169, 6.06991874, 5.33404791,\n",
              "       6.01515226, 5.09525238, 5.49565005, 5.26881614, 5.6457977 ,\n",
              "       5.7407852 , 6.2448062 , 6.40720033, 6.25146759, 5.27789573,\n",
              "       5.91333663, 5.90495368, 5.42146389, 5.51302494, 5.54847605,\n",
              "       5.40070493, 5.08033848, 5.3510922 , 6.22327966, 6.09839802,\n",
              "       5.93181807, 5.58654048, 6.28448742, 5.12182863, 5.92703798,\n",
              "       5.02880639, 6.02096889, 6.48614221, 5.47510197, 5.95369102,\n",
              "       5.96856352, 5.52714605, 4.99032758, 6.61783587, 5.83168392,\n",
              "       6.27155921, 6.1696774 , 6.82398109, 6.09221279, 4.79911152,\n",
              "       5.08007664, 6.97183788, 5.47185136, 6.15652237, 6.76814871,\n",
              "       5.01090071, 5.64760285, 5.78388971, 4.99837302, 6.13355739,\n",
              "       6.07096526, 5.90429107, 5.15557434, 5.46274017, 5.18721745,\n",
              "       5.16438178, 5.28580441, 5.14635187, 5.23327742, 5.13457255,\n",
              "       5.25484703, 6.16206701, 5.16430349, 5.29976489, 5.41360202,\n",
              "       4.95989181, 5.08718841, 6.34194262, 6.02109942, 5.40945753,\n",
              "       5.93102776, 6.16931767, 5.35093909, 6.37326597, 5.00471968,\n",
              "       5.44868099, 5.90152973, 6.03130172, 5.56044971, 5.00135995,\n",
              "       5.03938153, 5.93018212, 6.39367602, 5.74511903, 5.42761053,\n",
              "       6.01275242, 6.38386771, 5.76122648, 4.82219859, 5.46878592,\n",
              "       5.04430938, 5.90506617, 5.06816998, 5.87105926, 6.25707687,\n",
              "       5.63526985, 6.1124061 , 6.58032257, 6.51304421, 6.12637713,\n",
              "       5.34985341, 4.91834558, 5.02633902, 5.10209868, 5.93751622,\n",
              "       4.82726361, 5.58643272, 5.25007252, 4.87286412, 6.34221756,\n",
              "       4.87320824, 5.26969753, 4.89400677, 5.33869588, 5.52716577,\n",
              "       5.53897238, 5.12721593, 5.06001131, 5.13911179, 5.59628108,\n",
              "       5.34085607, 6.96723853, 5.31357668, 5.6468939 , 5.24038769,\n",
              "       4.69060078, 5.33061878, 4.97930332, 5.60209709, 6.49226284,\n",
              "       5.72883634, 5.7319909 , 5.63538976, 6.086924  , 5.92577835,\n",
              "       5.85174439, 6.37461452, 5.18497794, 6.56584684, 6.14312626,\n",
              "       5.37501664, 6.91651759, 5.7319909 , 6.34086207, 5.78421572,\n",
              "       5.18439125, 5.54950551, 5.33360868, 6.269919  , 5.88265344,\n",
              "       5.68163948, 5.42086654, 6.12538899, 5.31406745, 5.19528191,\n",
              "       5.70178575, 5.5675469 , 5.14670499, 5.15556398, 5.24007613,\n",
              "       5.69892321, 5.06382643, 5.35893169, 5.69605721, 6.10381152,\n",
              "       5.84992365, 5.33722415, 5.05158628, 5.59207818, 5.30872494,\n",
              "       5.91032222, 5.92390941, 5.3494868 , 5.3563169 , 5.10159886,\n",
              "       6.55975683, 6.01757571, 6.25129053, 5.16392559, 6.36720517])"
            ]
          },
          "metadata": {
            "tags": []
          },
          "execution_count": 135
        }
      ]
    },
    {
      "cell_type": "code",
      "metadata": {
        "id": "1GkPqbHoatNQ",
        "colab_type": "code",
        "outputId": "1a34e098-d889-4650-c8a0-153d6577f0f4",
        "colab": {
          "base_uri": "https://localhost:8080/",
          "height": 399
        }
      },
      "source": [
        "df = pd.DataFrame({'Actual': y_test.flatten(), 'Predicted': y_pred.flatten()})\n",
        "df"
      ],
      "execution_count": 136,
      "outputs": [
        {
          "output_type": "execute_result",
          "data": {
            "text/html": [
              "<div>\n",
              "<style scoped>\n",
              "    .dataframe tbody tr th:only-of-type {\n",
              "        vertical-align: middle;\n",
              "    }\n",
              "\n",
              "    .dataframe tbody tr th {\n",
              "        vertical-align: top;\n",
              "    }\n",
              "\n",
              "    .dataframe thead th {\n",
              "        text-align: right;\n",
              "    }\n",
              "</style>\n",
              "<table border=\"1\" class=\"dataframe\">\n",
              "  <thead>\n",
              "    <tr style=\"text-align: right;\">\n",
              "      <th></th>\n",
              "      <th>Actual</th>\n",
              "      <th>Predicted</th>\n",
              "    </tr>\n",
              "  </thead>\n",
              "  <tbody>\n",
              "    <tr>\n",
              "      <th>0</th>\n",
              "      <td>6</td>\n",
              "      <td>5.782930</td>\n",
              "    </tr>\n",
              "    <tr>\n",
              "      <th>1</th>\n",
              "      <td>5</td>\n",
              "      <td>5.036193</td>\n",
              "    </tr>\n",
              "    <tr>\n",
              "      <th>2</th>\n",
              "      <td>7</td>\n",
              "      <td>6.596989</td>\n",
              "    </tr>\n",
              "    <tr>\n",
              "      <th>3</th>\n",
              "      <td>6</td>\n",
              "      <td>5.339126</td>\n",
              "    </tr>\n",
              "    <tr>\n",
              "      <th>4</th>\n",
              "      <td>5</td>\n",
              "      <td>5.939529</td>\n",
              "    </tr>\n",
              "    <tr>\n",
              "      <th>...</th>\n",
              "      <td>...</td>\n",
              "      <td>...</td>\n",
              "    </tr>\n",
              "    <tr>\n",
              "      <th>315</th>\n",
              "      <td>6</td>\n",
              "      <td>6.559757</td>\n",
              "    </tr>\n",
              "    <tr>\n",
              "      <th>316</th>\n",
              "      <td>4</td>\n",
              "      <td>6.017576</td>\n",
              "    </tr>\n",
              "    <tr>\n",
              "      <th>317</th>\n",
              "      <td>5</td>\n",
              "      <td>6.251291</td>\n",
              "    </tr>\n",
              "    <tr>\n",
              "      <th>318</th>\n",
              "      <td>4</td>\n",
              "      <td>5.163926</td>\n",
              "    </tr>\n",
              "    <tr>\n",
              "      <th>319</th>\n",
              "      <td>6</td>\n",
              "      <td>6.367205</td>\n",
              "    </tr>\n",
              "  </tbody>\n",
              "</table>\n",
              "<p>320 rows × 2 columns</p>\n",
              "</div>"
            ],
            "text/plain": [
              "     Actual  Predicted\n",
              "0         6   5.782930\n",
              "1         5   5.036193\n",
              "2         7   6.596989\n",
              "3         6   5.339126\n",
              "4         5   5.939529\n",
              "..      ...        ...\n",
              "315       6   6.559757\n",
              "316       4   6.017576\n",
              "317       5   6.251291\n",
              "318       4   5.163926\n",
              "319       6   6.367205\n",
              "\n",
              "[320 rows x 2 columns]"
            ]
          },
          "metadata": {
            "tags": []
          },
          "execution_count": 136
        }
      ]
    },
    {
      "cell_type": "markdown",
      "metadata": {
        "id": "1CiPWg1XbAU9",
        "colab_type": "text"
      },
      "source": [
        "Calculate errors of predicted results"
      ]
    },
    {
      "cell_type": "code",
      "metadata": {
        "id": "TfrDIb3kbEn8",
        "colab_type": "code",
        "outputId": "a7d31674-8d40-49cf-a96b-0366f20b5f3f",
        "colab": {
          "base_uri": "https://localhost:8080/",
          "height": 88
        }
      },
      "source": [
        "from sklearn.metrics import mean_absolute_error,mean_squared_error,r2_score\n",
        "mse = mean_squared_error(y_test, y_pred)\n",
        "print('Mean squared error:',mse)\n",
        "accuracy = lr.score(X_test, y_test)\n",
        "print('Accuracy:',accuracy*100)\n",
        "r_score = r2_score(y_test,y_pred)\n",
        "print('R2_score:',r_score*100)\n",
        "mae = mean_absolute_error(y_test, y_pred)\n",
        "print('Mean squared error:',mae)\n"
      ],
      "execution_count": 137,
      "outputs": [
        {
          "output_type": "stream",
          "text": [
            "Mean squared error: 0.3844711978201226\n",
            "Accuracy: 32.83887639580253\n",
            "R2_score: 32.83887639580253\n",
            "Mean squared error: 0.4696330928661087\n"
          ],
          "name": "stdout"
        }
      ]
    },
    {
      "cell_type": "markdown",
      "metadata": {
        "id": "LRXOtbzqbw6M",
        "colab_type": "text"
      },
      "source": [
        "You can see that the value of accuracy is 0.38, which is very bad. This means that our algorithm was not very accurate.\n",
        "There are many factors that may have contributed to this inaccuracy, for example :\n",
        "\n",
        "Need more data: We need to have a huge amount of data to get the best possible prediction.\n",
        "\n",
        "Bad assumptions: We made the assumption that this data has a linear relationship, but that might not be the case. Visualizing the data may help you determine that.\n",
        "\n",
        "Poor features: The features we used may not have had a high enough correlation to the values we were trying to predict."
      ]
    }
  ]
}