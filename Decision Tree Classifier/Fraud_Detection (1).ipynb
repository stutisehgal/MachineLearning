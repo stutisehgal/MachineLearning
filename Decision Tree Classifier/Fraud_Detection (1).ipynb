{
  "nbformat": 4,
  "nbformat_minor": 0,
  "metadata": {
    "colab": {
      "name": "Fraud Detection.ipynb",
      "provenance": [],
      "collapsed_sections": []
    },
    "kernelspec": {
      "name": "python3",
      "display_name": "Python 3"
    }
  },
  "cells": [
    {
      "cell_type": "code",
      "metadata": {
        "id": "KmnVqs3n_M5A"
      },
      "source": [
        "import numpy as np\n",
        "import pandas as pd\n",
        "import matplotlib.pyplot as plt"
      ],
      "execution_count": 1,
      "outputs": []
    },
    {
      "cell_type": "code",
      "metadata": {
        "id": "tfRtfMei_VSv",
        "outputId": "f67b7163-82e1-4587-d037-f6c98c9fb408",
        "colab": {
          "base_uri": "https://localhost:8080/",
          "height": 34
        }
      },
      "source": [
        "dataset=pd.read_csv('fraudDetection.csv', encoding= 'unicode_escape', engine='python')\n",
        "print(dataset.shape)"
      ],
      "execution_count": 2,
      "outputs": [
        {
          "output_type": "stream",
          "text": [
            "(14, 6)\n"
          ],
          "name": "stdout"
        }
      ]
    },
    {
      "cell_type": "code",
      "metadata": {
        "id": "LFoYYt_YBT92"
      },
      "source": [
        "X=dataset.iloc[ : , 1:5].values\n",
        "y=dataset.iloc[ : , -1].values"
      ],
      "execution_count": 3,
      "outputs": []
    },
    {
      "cell_type": "code",
      "metadata": {
        "id": "Bbj24WlEIipd",
        "outputId": "25bcbfe2-9494-43f0-f20d-c4c1ff954b96",
        "colab": {
          "base_uri": "https://localhost:8080/",
          "height": 252
        }
      },
      "source": [
        "X"
      ],
      "execution_count": 4,
      "outputs": [
        {
          "output_type": "execute_result",
          "data": {
            "text/plain": [
              "array([['Male ', 'Middle age', 'Unmarried', 'HSC'],\n",
              "       ['Female', 'Youth', 'Married', 'UG'],\n",
              "       ['Male ', 'Middle age', 'Divorced', 'PG'],\n",
              "       ['Female', 'Youth', 'Unmarried', 'HSC'],\n",
              "       ['Male', 'Senior', 'Married', 'PG'],\n",
              "       ['Female', 'Youth', 'Divorced', 'UG'],\n",
              "       ['Male', 'Youth', 'Divorced', 'HSC'],\n",
              "       ['Female', 'Middle age', 'Married', 'HSC'],\n",
              "       ['Male', 'Senior', 'Married', 'UG'],\n",
              "       ['Male', 'Youth', 'Unmarried', 'PG'],\n",
              "       ['Female', 'Youth', 'Unmarried', 'UG'],\n",
              "       ['Male', 'Youth', 'Unmarried', 'PG'],\n",
              "       ['Male', 'Senior', 'Married', 'UG'],\n",
              "       ['Female', 'Middle age', 'Married', 'HSC']], dtype=object)"
            ]
          },
          "metadata": {
            "tags": []
          },
          "execution_count": 4
        }
      ]
    },
    {
      "cell_type": "code",
      "metadata": {
        "id": "WAVdwFSgI1xV",
        "outputId": "4a5c0bd2-d6d1-414e-d6f4-78a8574ea180",
        "colab": {
          "base_uri": "https://localhost:8080/",
          "height": 50
        }
      },
      "source": [
        "y"
      ],
      "execution_count": 5,
      "outputs": [
        {
          "output_type": "execute_result",
          "data": {
            "text/plain": [
              "array(['YES', 'YES', 'NO', 'NO', 'YES', 'NO', 'NO', 'YES', 'YES', 'YES',\n",
              "       'NO', 'YES', 'YES', 'YES'], dtype=object)"
            ]
          },
          "metadata": {
            "tags": []
          },
          "execution_count": 5
        }
      ]
    },
    {
      "cell_type": "code",
      "metadata": {
        "id": "rADGa_eCBkpK",
        "outputId": "afb08586-03ec-4c94-ef23-e8f5f0ed978f",
        "colab": {
          "base_uri": "https://localhost:8080/",
          "height": 343
        }
      },
      "source": [
        "dataset.head(10)"
      ],
      "execution_count": 6,
      "outputs": [
        {
          "output_type": "execute_result",
          "data": {
            "text/html": [
              "<div>\n",
              "<style scoped>\n",
              "    .dataframe tbody tr th:only-of-type {\n",
              "        vertical-align: middle;\n",
              "    }\n",
              "\n",
              "    .dataframe tbody tr th {\n",
              "        vertical-align: top;\n",
              "    }\n",
              "\n",
              "    .dataframe thead th {\n",
              "        text-align: right;\n",
              "    }\n",
              "</style>\n",
              "<table border=\"1\" class=\"dataframe\">\n",
              "  <thead>\n",
              "    <tr style=\"text-align: right;\">\n",
              "      <th></th>\n",
              "      <th>S. No</th>\n",
              "      <th>Gender</th>\n",
              "      <th>Age</th>\n",
              "      <th>Marital Status</th>\n",
              "      <th>Education</th>\n",
              "      <th>Fraud</th>\n",
              "    </tr>\n",
              "  </thead>\n",
              "  <tbody>\n",
              "    <tr>\n",
              "      <th>0</th>\n",
              "      <td>1</td>\n",
              "      <td>Male</td>\n",
              "      <td>Middle age</td>\n",
              "      <td>Unmarried</td>\n",
              "      <td>HSC</td>\n",
              "      <td>YES</td>\n",
              "    </tr>\n",
              "    <tr>\n",
              "      <th>1</th>\n",
              "      <td>2</td>\n",
              "      <td>Female</td>\n",
              "      <td>Youth</td>\n",
              "      <td>Married</td>\n",
              "      <td>UG</td>\n",
              "      <td>YES</td>\n",
              "    </tr>\n",
              "    <tr>\n",
              "      <th>2</th>\n",
              "      <td>3</td>\n",
              "      <td>Male</td>\n",
              "      <td>Middle age</td>\n",
              "      <td>Divorced</td>\n",
              "      <td>PG</td>\n",
              "      <td>NO</td>\n",
              "    </tr>\n",
              "    <tr>\n",
              "      <th>3</th>\n",
              "      <td>4</td>\n",
              "      <td>Female</td>\n",
              "      <td>Youth</td>\n",
              "      <td>Unmarried</td>\n",
              "      <td>HSC</td>\n",
              "      <td>NO</td>\n",
              "    </tr>\n",
              "    <tr>\n",
              "      <th>4</th>\n",
              "      <td>5</td>\n",
              "      <td>Male</td>\n",
              "      <td>Senior</td>\n",
              "      <td>Married</td>\n",
              "      <td>PG</td>\n",
              "      <td>YES</td>\n",
              "    </tr>\n",
              "    <tr>\n",
              "      <th>5</th>\n",
              "      <td>6</td>\n",
              "      <td>Female</td>\n",
              "      <td>Youth</td>\n",
              "      <td>Divorced</td>\n",
              "      <td>UG</td>\n",
              "      <td>NO</td>\n",
              "    </tr>\n",
              "    <tr>\n",
              "      <th>6</th>\n",
              "      <td>7</td>\n",
              "      <td>Male</td>\n",
              "      <td>Youth</td>\n",
              "      <td>Divorced</td>\n",
              "      <td>HSC</td>\n",
              "      <td>NO</td>\n",
              "    </tr>\n",
              "    <tr>\n",
              "      <th>7</th>\n",
              "      <td>8</td>\n",
              "      <td>Female</td>\n",
              "      <td>Middle age</td>\n",
              "      <td>Married</td>\n",
              "      <td>HSC</td>\n",
              "      <td>YES</td>\n",
              "    </tr>\n",
              "    <tr>\n",
              "      <th>8</th>\n",
              "      <td>9</td>\n",
              "      <td>Male</td>\n",
              "      <td>Senior</td>\n",
              "      <td>Married</td>\n",
              "      <td>UG</td>\n",
              "      <td>YES</td>\n",
              "    </tr>\n",
              "    <tr>\n",
              "      <th>9</th>\n",
              "      <td>10</td>\n",
              "      <td>Male</td>\n",
              "      <td>Youth</td>\n",
              "      <td>Unmarried</td>\n",
              "      <td>PG</td>\n",
              "      <td>YES</td>\n",
              "    </tr>\n",
              "  </tbody>\n",
              "</table>\n",
              "</div>"
            ],
            "text/plain": [
              "   S. No  Gender         Age Marital Status Education  Fraud\n",
              "0      1   Male   Middle age      Unmarried        HSC   YES\n",
              "1      2  Female       Youth        Married         UG   YES\n",
              "2      3   Male   Middle age       Divorced         PG    NO\n",
              "3      4  Female       Youth      Unmarried        HSC    NO\n",
              "4      5    Male      Senior        Married         PG   YES\n",
              "5      6  Female       Youth       Divorced         UG    NO\n",
              "6      7    Male       Youth       Divorced        HSC    NO\n",
              "7      8  Female  Middle age        Married        HSC   YES\n",
              "8      9    Male      Senior        Married         UG   YES\n",
              "9     10    Male       Youth      Unmarried         PG   YES"
            ]
          },
          "metadata": {
            "tags": []
          },
          "execution_count": 6
        }
      ]
    },
    {
      "cell_type": "code",
      "metadata": {
        "id": "afWcSfVZBm8J",
        "outputId": "e1700a50-98da-48ca-b93f-62041bde5fc2",
        "colab": {
          "base_uri": "https://localhost:8080/",
          "height": 134
        }
      },
      "source": [
        "# DATA PREPROCESSING \n",
        "\n",
        "# 1. checking and handling missing values\n",
        "print(\"No. of missing values in data:\",dataset.isnull().sum()) #gives the number of np.NaN values in each column\n",
        "#checks for missing values in the dataset--if any, replace with mean of the column"
      ],
      "execution_count": 7,
      "outputs": [
        {
          "output_type": "stream",
          "text": [
            "No. of missing values in data: S. No             0\n",
            "Gender            0\n",
            "Age               0\n",
            "Marital Status    0\n",
            "Education         0\n",
            "Fraud             0\n",
            "dtype: int64\n"
          ],
          "name": "stdout"
        }
      ]
    },
    {
      "cell_type": "code",
      "metadata": {
        "id": "uZnN6J3gKgBM",
        "outputId": "5fd87e3c-2b26-4296-cccb-e2418134347c",
        "colab": {
          "base_uri": "https://localhost:8080/",
          "height": 151
        }
      },
      "source": [
        "# ordinal encode the  dataset\n",
        "from sklearn.preprocessing import LabelEncoder\n",
        "from sklearn.preprocessing import OrdinalEncoder\n",
        "# ordinal encode input variables\n",
        "ordinal_encoder = OrdinalEncoder()\n",
        "X = ordinal_encoder.fit_transform(X)\n",
        "# ordinal encode target variable\n",
        "label_encoder = LabelEncoder()\n",
        "y = label_encoder.fit_transform(y)\n",
        "# summarize the transformed data\n",
        "print('Input', X.shape)\n",
        "print(X[:5, :])\n",
        "print('Output', y.shape)\n",
        "print(y[:5])"
      ],
      "execution_count": 8,
      "outputs": [
        {
          "output_type": "stream",
          "text": [
            "Input (14, 4)\n",
            "[[2. 0. 2. 0.]\n",
            " [0. 2. 1. 2.]\n",
            " [2. 0. 0. 1.]\n",
            " [0. 2. 2. 0.]\n",
            " [1. 1. 1. 1.]]\n",
            "Output (14,)\n",
            "[1 1 0 0 1]\n"
          ],
          "name": "stdout"
        }
      ]
    },
    {
      "cell_type": "code",
      "metadata": {
        "id": "Wdd-BeA3BsJn"
      },
      "source": [
        "#SPLITTING DATASET INTO TRAINING AND TEST SET\n",
        "from sklearn.model_selection import train_test_split\n",
        "X_train,X_test,y_train,y_test= train_test_split(X,y,test_size=0.2,random_state=0)"
      ],
      "execution_count": 9,
      "outputs": []
    },
    {
      "cell_type": "code",
      "metadata": {
        "id": "Tjye6VyYLH2u",
        "outputId": "136facfc-6568-4a3c-bb3d-18462a913d88",
        "colab": {
          "base_uri": "https://localhost:8080/",
          "height": 118
        }
      },
      "source": [
        "# APPLYING DECISION TREE CLASSIFICATION MODEL\n",
        "# import DecisionTreeClassifier from sklearn\n",
        "from sklearn.tree import DecisionTreeClassifier\n",
        "classifier=DecisionTreeClassifier( criterion='entropy')  #entropy is the measure of randomness and we split in such a way to bring order into the classifications after split and thus reduce entropy\n",
        "classifier.fit(X_train,y_train)  "
      ],
      "execution_count": 10,
      "outputs": [
        {
          "output_type": "execute_result",
          "data": {
            "text/plain": [
              "DecisionTreeClassifier(ccp_alpha=0.0, class_weight=None, criterion='entropy',\n",
              "                       max_depth=None, max_features=None, max_leaf_nodes=None,\n",
              "                       min_impurity_decrease=0.0, min_impurity_split=None,\n",
              "                       min_samples_leaf=1, min_samples_split=2,\n",
              "                       min_weight_fraction_leaf=0.0, presort='deprecated',\n",
              "                       random_state=None, splitter='best')"
            ]
          },
          "metadata": {
            "tags": []
          },
          "execution_count": 10
        }
      ]
    },
    {
      "cell_type": "code",
      "metadata": {
        "id": "OM1CoAQyDFmH"
      },
      "source": [
        "# PREDICTING TEST SET RESULTS\n",
        "# prediction with sklearn\n",
        "y_pred=classifier.predict(X_test)"
      ],
      "execution_count": 11,
      "outputs": []
    },
    {
      "cell_type": "code",
      "metadata": {
        "id": "qqaaJhs8DIJq",
        "outputId": "b76f0c20-e4de-431a-cd18-c25903390f3e",
        "colab": {
          "base_uri": "https://localhost:8080/",
          "height": 134
        }
      },
      "source": [
        "# COMPARING PREDICTED OUTPUT VALUES y_pred WITH ACTUAL TARGET TESTING SET VALUES y_test\n",
        "dataset = pd.DataFrame({'Actual': y_test.flatten(), 'Predicted': y_pred.flatten()})\n",
        "print(dataset.head(6))\n",
        "print(dataset.tail(2))"
      ],
      "execution_count": 14,
      "outputs": [
        {
          "output_type": "stream",
          "text": [
            "   Actual  Predicted\n",
            "0       1          1\n",
            "1       0          0\n",
            "2       1          1\n",
            "   Actual  Predicted\n",
            "1       0          0\n",
            "2       1          1\n"
          ],
          "name": "stdout"
        }
      ]
    },
    {
      "cell_type": "code",
      "metadata": {
        "id": "kuOPtnEgDKf0",
        "outputId": "c931abde-56e8-47a0-bb35-19ab9eff016f",
        "colab": {
          "base_uri": "https://localhost:8080/",
          "height": 101
        }
      },
      "source": [
        "from sklearn.metrics import confusion_matrix\n",
        "cm= confusion_matrix(y_test,y_pred)\n",
        "''' [ TP FN\n",
        "      FP TN]'''\n",
        "print(\"Confusion Matrix:\",cm)\n",
        "print('Training score:',classifier.score(X_train,y_train)*100)\n",
        "print('Testing score:',classifier.score(X_test,y_test)*100)\n",
        "print(\"Importance of each feature:\" ,classifier.feature_importances_)"
      ],
      "execution_count": 13,
      "outputs": [
        {
          "output_type": "stream",
          "text": [
            "Confusion Matrix: [[1 0]\n",
            " [0 2]]\n",
            "Training score: 100.0\n",
            "Testing score: 100.0\n",
            "Importance of each feature: [0.20186621 0.19448533 0.60364846 0.        ]\n"
          ],
          "name": "stdout"
        }
      ]
    }
  ]
}