{
 "cells": [
  {
   "cell_type": "code",
   "execution_count": 1,
   "metadata": {
    "colab": {},
    "colab_type": "code",
    "id": "0qmTTgieTe-U"
   },
   "outputs": [],
   "source": [
    "#By using decision tree classification, you can build models between a response variable and many feature variables.\n",
    "#Make sure that each split gives us highest informational gain and results in least entropy ie decreases entropy after splitting by applying certain conditions \n",
    "''' collect_data\n",
    "Prepare data-- feature scaling, encoding categorical data, feature selection\n",
    "split dataset\n",
    "build predictive model/algorithm\n",
    "make prediction\n",
    "evaluation--calculate errors\n",
    "visualisation of data''' \n",
    "#importing dataset and set independent features matrix X and dependent variable vector y\n",
    "import numpy as np\n",
    "import pandas as pd\n",
    "import matplotlib.pyplot as plt"
   ]
  },
  {
   "cell_type": "code",
   "execution_count": 2,
   "metadata": {
    "colab": {
     "base_uri": "https://localhost:8080/",
     "height": 35
    },
    "colab_type": "code",
    "id": "7oCtWEtsiya9",
    "outputId": "effa7851-e308-44a8-d5f4-114bc293ddd0"
   },
   "outputs": [
    {
     "name": "stdout",
     "output_type": "stream",
     "text": [
      "(400, 5)\n"
     ]
    }
   ],
   "source": [
    "dataset=pd.read_csv('Social_Network_Ads.csv')\n",
    "print(dataset.shape)\n",
    "X=dataset.iloc[ : , 2:4].values\n",
    "y=dataset.iloc[ : , -1].values"
   ]
  },
  {
   "cell_type": "code",
   "execution_count": 3,
   "metadata": {},
   "outputs": [
    {
     "data": {
      "text/html": [
       "<div>\n",
       "<style scoped>\n",
       "    .dataframe tbody tr th:only-of-type {\n",
       "        vertical-align: middle;\n",
       "    }\n",
       "\n",
       "    .dataframe tbody tr th {\n",
       "        vertical-align: top;\n",
       "    }\n",
       "\n",
       "    .dataframe thead th {\n",
       "        text-align: right;\n",
       "    }\n",
       "</style>\n",
       "<table border=\"1\" class=\"dataframe\">\n",
       "  <thead>\n",
       "    <tr style=\"text-align: right;\">\n",
       "      <th></th>\n",
       "      <th>User ID</th>\n",
       "      <th>Gender</th>\n",
       "      <th>Age</th>\n",
       "      <th>EstimatedSalary</th>\n",
       "      <th>Purchased</th>\n",
       "    </tr>\n",
       "  </thead>\n",
       "  <tbody>\n",
       "    <tr>\n",
       "      <th>0</th>\n",
       "      <td>15624510</td>\n",
       "      <td>Male</td>\n",
       "      <td>19</td>\n",
       "      <td>19000</td>\n",
       "      <td>0</td>\n",
       "    </tr>\n",
       "    <tr>\n",
       "      <th>1</th>\n",
       "      <td>15810944</td>\n",
       "      <td>Male</td>\n",
       "      <td>35</td>\n",
       "      <td>20000</td>\n",
       "      <td>0</td>\n",
       "    </tr>\n",
       "    <tr>\n",
       "      <th>2</th>\n",
       "      <td>15668575</td>\n",
       "      <td>Female</td>\n",
       "      <td>26</td>\n",
       "      <td>43000</td>\n",
       "      <td>0</td>\n",
       "    </tr>\n",
       "    <tr>\n",
       "      <th>3</th>\n",
       "      <td>15603246</td>\n",
       "      <td>Female</td>\n",
       "      <td>27</td>\n",
       "      <td>57000</td>\n",
       "      <td>0</td>\n",
       "    </tr>\n",
       "    <tr>\n",
       "      <th>4</th>\n",
       "      <td>15804002</td>\n",
       "      <td>Male</td>\n",
       "      <td>19</td>\n",
       "      <td>76000</td>\n",
       "      <td>0</td>\n",
       "    </tr>\n",
       "    <tr>\n",
       "      <th>5</th>\n",
       "      <td>15728773</td>\n",
       "      <td>Male</td>\n",
       "      <td>27</td>\n",
       "      <td>58000</td>\n",
       "      <td>0</td>\n",
       "    </tr>\n",
       "    <tr>\n",
       "      <th>6</th>\n",
       "      <td>15598044</td>\n",
       "      <td>Female</td>\n",
       "      <td>27</td>\n",
       "      <td>84000</td>\n",
       "      <td>0</td>\n",
       "    </tr>\n",
       "    <tr>\n",
       "      <th>7</th>\n",
       "      <td>15694829</td>\n",
       "      <td>Female</td>\n",
       "      <td>32</td>\n",
       "      <td>150000</td>\n",
       "      <td>1</td>\n",
       "    </tr>\n",
       "    <tr>\n",
       "      <th>8</th>\n",
       "      <td>15600575</td>\n",
       "      <td>Male</td>\n",
       "      <td>25</td>\n",
       "      <td>33000</td>\n",
       "      <td>0</td>\n",
       "    </tr>\n",
       "    <tr>\n",
       "      <th>9</th>\n",
       "      <td>15727311</td>\n",
       "      <td>Female</td>\n",
       "      <td>35</td>\n",
       "      <td>65000</td>\n",
       "      <td>0</td>\n",
       "    </tr>\n",
       "  </tbody>\n",
       "</table>\n",
       "</div>"
      ],
      "text/plain": [
       "    User ID  Gender  Age  EstimatedSalary  Purchased\n",
       "0  15624510    Male   19            19000          0\n",
       "1  15810944    Male   35            20000          0\n",
       "2  15668575  Female   26            43000          0\n",
       "3  15603246  Female   27            57000          0\n",
       "4  15804002    Male   19            76000          0\n",
       "5  15728773    Male   27            58000          0\n",
       "6  15598044  Female   27            84000          0\n",
       "7  15694829  Female   32           150000          1\n",
       "8  15600575    Male   25            33000          0\n",
       "9  15727311  Female   35            65000          0"
      ]
     },
     "execution_count": 3,
     "metadata": {},
     "output_type": "execute_result"
    }
   ],
   "source": [
    "dataset.head(10)"
   ]
  },
  {
   "cell_type": "code",
   "execution_count": 4,
   "metadata": {},
   "outputs": [
    {
     "data": {
      "text/html": [
       "<div>\n",
       "<style scoped>\n",
       "    .dataframe tbody tr th:only-of-type {\n",
       "        vertical-align: middle;\n",
       "    }\n",
       "\n",
       "    .dataframe tbody tr th {\n",
       "        vertical-align: top;\n",
       "    }\n",
       "\n",
       "    .dataframe thead th {\n",
       "        text-align: right;\n",
       "    }\n",
       "</style>\n",
       "<table border=\"1\" class=\"dataframe\">\n",
       "  <thead>\n",
       "    <tr style=\"text-align: right;\">\n",
       "      <th></th>\n",
       "      <th>User ID</th>\n",
       "      <th>Gender</th>\n",
       "      <th>Age</th>\n",
       "      <th>EstimatedSalary</th>\n",
       "      <th>Purchased</th>\n",
       "    </tr>\n",
       "  </thead>\n",
       "  <tbody>\n",
       "    <tr>\n",
       "      <th>395</th>\n",
       "      <td>15691863</td>\n",
       "      <td>Female</td>\n",
       "      <td>46</td>\n",
       "      <td>41000</td>\n",
       "      <td>1</td>\n",
       "    </tr>\n",
       "    <tr>\n",
       "      <th>396</th>\n",
       "      <td>15706071</td>\n",
       "      <td>Male</td>\n",
       "      <td>51</td>\n",
       "      <td>23000</td>\n",
       "      <td>1</td>\n",
       "    </tr>\n",
       "    <tr>\n",
       "      <th>397</th>\n",
       "      <td>15654296</td>\n",
       "      <td>Female</td>\n",
       "      <td>50</td>\n",
       "      <td>20000</td>\n",
       "      <td>1</td>\n",
       "    </tr>\n",
       "    <tr>\n",
       "      <th>398</th>\n",
       "      <td>15755018</td>\n",
       "      <td>Male</td>\n",
       "      <td>36</td>\n",
       "      <td>33000</td>\n",
       "      <td>0</td>\n",
       "    </tr>\n",
       "    <tr>\n",
       "      <th>399</th>\n",
       "      <td>15594041</td>\n",
       "      <td>Female</td>\n",
       "      <td>49</td>\n",
       "      <td>36000</td>\n",
       "      <td>1</td>\n",
       "    </tr>\n",
       "  </tbody>\n",
       "</table>\n",
       "</div>"
      ],
      "text/plain": [
       "      User ID  Gender  Age  EstimatedSalary  Purchased\n",
       "395  15691863  Female   46            41000          1\n",
       "396  15706071    Male   51            23000          1\n",
       "397  15654296  Female   50            20000          1\n",
       "398  15755018    Male   36            33000          0\n",
       "399  15594041  Female   49            36000          1"
      ]
     },
     "execution_count": 4,
     "metadata": {},
     "output_type": "execute_result"
    }
   ],
   "source": [
    "dataset.tail()"
   ]
  },
  {
   "cell_type": "code",
   "execution_count": 5,
   "metadata": {
    "colab": {
     "base_uri": "https://localhost:8080/",
     "height": 161
    },
    "colab_type": "code",
    "id": "yoztoYTgjwVQ",
    "outputId": "dbebea4c-4d5f-4987-d633-8f3c7920c8d7"
   },
   "outputs": [
    {
     "name": "stdout",
     "output_type": "stream",
     "text": [
      "No. of missing values in data: User ID            0\n",
      "Gender             0\n",
      "Age                0\n",
      "EstimatedSalary    0\n",
      "Purchased          0\n",
      "dtype: int64\n"
     ]
    }
   ],
   "source": [
    "# DATA PREPROCESSING \n",
    "\n",
    "# 1. checking and handling missing values\n",
    "print(\"No. of missing values in data:\",dataset.isnull().sum()) #gives the number of np.NaN values in each column\n",
    "#checks for missing values in the dataset--if any, replace with mean of the column"
   ]
  },
  {
   "cell_type": "markdown",
   "metadata": {
    "colab_type": "text",
    "id": "IOm79lo4j7cE"
   },
   "source": [
    "Decision trees can handle categorical data so encoding is not reqd"
   ]
  },
  {
   "cell_type": "markdown",
   "metadata": {
    "colab_type": "text",
    "id": "WqdxSvXJkvJ4"
   },
   "source": [
    "Decision trees are not alogirthms based on Euclidean distance so we do not have to do feature scaling as it is reqd in Euclidean distance dependent ML algorithms"
   ]
  },
  {
   "cell_type": "code",
   "execution_count": 6,
   "metadata": {},
   "outputs": [],
   "source": [
    "#SPLITTING DATASET INTO TRAINING AND TEST SET\n",
    "from sklearn.model_selection import train_test_split\n",
    "X_train,X_test,y_train,y_test= train_test_split(X,y,test_size=0.2,random_state=0)"
   ]
  },
  {
   "cell_type": "code",
   "execution_count": 7,
   "metadata": {
    "colab": {
     "base_uri": "https://localhost:8080/",
     "height": 124
    },
    "colab_type": "code",
    "id": "Xx3lfTmtj2za",
    "outputId": "4a0d2410-b8ce-484e-ae5f-07933590c8f9"
   },
   "outputs": [
    {
     "data": {
      "text/plain": [
       "DecisionTreeClassifier(ccp_alpha=0.0, class_weight=None, criterion='entropy',\n",
       "                       max_depth=None, max_features=None, max_leaf_nodes=None,\n",
       "                       min_impurity_decrease=0.0, min_impurity_split=None,\n",
       "                       min_samples_leaf=1, min_samples_split=2,\n",
       "                       min_weight_fraction_leaf=0.0, presort='deprecated',\n",
       "                       random_state=None, splitter='best')"
      ]
     },
     "execution_count": 7,
     "metadata": {},
     "output_type": "execute_result"
    }
   ],
   "source": [
    "# APPLYING DECISION TREE CLASSIFICATION MODEL\n",
    "# import DecisionTreeClassifier from sklearn\n",
    "from sklearn.tree import DecisionTreeClassifier\n",
    "classifier=DecisionTreeClassifier( criterion='entropy')  #entropy is the measure of randomness and we split in such a way to bring order into the classifications after split and thus reduce entropy\n",
    "classifier.fit(X_train,y_train)   \n",
    "# Informational gain = entropy(before split) - entropy(after split)"
   ]
  },
  {
   "cell_type": "code",
   "execution_count": 8,
   "metadata": {
    "colab": {
     "base_uri": "https://localhost:8080/",
     "height": 88
    },
    "colab_type": "code",
    "id": "T9OdOutsmALf",
    "outputId": "e9541c1a-4f4c-478d-e672-6795bce05396"
   },
   "outputs": [
    {
     "data": {
      "text/plain": [
       "array([0, 0, 0, 0, 0, 0, 0, 1, 0, 0, 0, 0, 0, 1, 0, 1, 1, 0, 1, 0, 0, 1,\n",
       "       0, 1, 0, 0, 0, 0, 0, 0, 0, 0, 1, 0, 0, 0, 0, 0, 0, 1, 0, 0, 0, 0,\n",
       "       1, 0, 0, 1, 0, 1, 1, 0, 0, 1, 0, 1, 0, 0, 1, 0, 0, 1, 0, 1, 0, 1,\n",
       "       0, 0, 0, 1, 1, 0, 0, 1, 0, 0, 0, 0, 1, 1], dtype=int64)"
      ]
     },
     "execution_count": 8,
     "metadata": {},
     "output_type": "execute_result"
    }
   ],
   "source": [
    "# PREDICTING TEST SET RESULTS\n",
    "# prediction with sklearn\n",
    "y_pred=classifier.predict(X_test) #predict() method is used to make test set predictions\n",
    "y_pred #y_pred stores the predicted value of test set target output"
   ]
  },
  {
   "cell_type": "code",
   "execution_count": 9,
   "metadata": {
    "colab": {
     "base_uri": "https://localhost:8080/",
     "height": 1000
    },
    "colab_type": "code",
    "id": "9PRBFaEUwu1-",
    "outputId": "4e489623-803d-4c9e-8eb2-467ac1e3b508"
   },
   "outputs": [
    {
     "name": "stdout",
     "output_type": "stream",
     "text": [
      "    Actual  Predicted\n",
      "0        0          0\n",
      "1        0          0\n",
      "2        0          0\n",
      "3        0          0\n",
      "4        0          0\n",
      "5        0          0\n",
      "6        0          0\n",
      "7        1          1\n",
      "8        0          0\n",
      "9        0          0\n",
      "10       0          0\n",
      "11       0          0\n",
      "12       0          0\n",
      "13       0          1\n",
      "14       0          0\n",
      "15       0          1\n",
      "16       0          1\n",
      "17       0          0\n",
      "18       1          1\n",
      "19       0          0\n",
      "20       0          0\n",
      "21       1          1\n",
      "22       0          0\n",
      "23       1          1\n",
      "24       0          0\n",
      "25       1          0\n",
      "26       0          0\n",
      "27       0          0\n",
      "28       0          0\n",
      "29       0          0\n",
      "30       0          0\n",
      "31       1          0\n",
      "32       1          1\n",
      "33       0          0\n",
      "34       0          0\n",
      "35       0          0\n",
      "36       0          0\n",
      "37       0          0\n",
      "38       0          0\n",
      "39       1          1\n",
      "40       0          0\n",
      "41       0          0\n",
      "42       0          0\n",
      "43       0          0\n",
      "44       1          1\n",
      "45       0          0\n",
      "46       0          0\n",
      "47       1          1\n",
      "48       0          0\n",
      "49       1          1\n",
      "50       1          1\n",
      "51       0          0\n",
      "52       0          0\n",
      "53       0          1\n",
      "54       1          0\n",
      "55       1          1\n",
      "56       0          0\n",
      "57       0          0\n",
      "58       1          1\n",
      "59       0          0\n",
      "    Actual  Predicted\n",
      "60       0          0\n",
      "61       1          1\n",
      "62       0          0\n",
      "63       1          1\n",
      "64       0          0\n",
      "65       1          1\n",
      "66       0          0\n",
      "67       0          0\n",
      "68       0          0\n",
      "69       0          1\n",
      "70       1          1\n",
      "71       0          0\n",
      "72       0          0\n",
      "73       1          1\n",
      "74       0          0\n",
      "75       0          0\n",
      "76       0          0\n",
      "77       0          0\n",
      "78       1          1\n",
      "79       1          1\n"
     ]
    }
   ],
   "source": [
    "# COMPARING PREDICTED OUTPUT VALUES y_pred WITH ACTUAL TARGET TESTING SET VALUES y_test\n",
    "df = pd.DataFrame({'Actual': y_test.flatten(), 'Predicted': y_pred.flatten()})\n",
    "print(df.head(60))\n",
    "print(df.tail(20))"
   ]
  },
  {
   "cell_type": "markdown",
   "metadata": {
    "colab_type": "text",
    "id": "W6nunGUimz2P"
   },
   "source": [
    "Error and Accuracy Prediction --> Confusion Matrix\n",
    "\n",
    "Since decision trees create boundaries and not compare predicted and actual values based on Euclidean distance, we cannot use r2_score or mean absolute error"
   ]
  },
  {
   "cell_type": "code",
   "execution_count": 10,
   "metadata": {
    "colab": {
     "base_uri": "https://localhost:8080/",
     "height": 106
    },
    "colab_type": "code",
    "id": "5WQItoJjmGU-",
    "outputId": "14708057-d61c-413f-8582-aa9bc010bb17"
   },
   "outputs": [
    {
     "name": "stdout",
     "output_type": "stream",
     "text": [
      "Confusion Matrix: [[53  5]\n",
      " [ 3 19]]\n",
      "Training score: 99.6875\n",
      "Testing score: 90.0\n",
      "Importance of each feature: [0.46867356 0.53132644]\n"
     ]
    }
   ],
   "source": [
    "# CALCULTING ERROR AND ACCURACY OF PREDICTION MODEL USING CONFUSION MATRIX\n",
    "from sklearn.metrics import confusion_matrix\n",
    "cm= confusion_matrix(y_test,y_pred)\n",
    "''' [ TP FN\n",
    "      FP TN]'''\n",
    "print(\"Confusion Matrix:\",cm)\n",
    "print('Training score:',classifier.score(X_train,y_train)*100)\n",
    "print('Testing score:',classifier.score(X_test,y_test)*100)\n",
    "print(\"Importance of each feature:\" ,classifier.feature_importances_) \n",
    "#Features included are Age and Estimated Salary"
   ]
  },
  {
   "cell_type": "code",
   "execution_count": null,
   "metadata": {
    "colab": {
     "base_uri": "https://localhost:8080/",
     "height": 55
    },
    "colab_type": "code",
    "id": "AbZ1BqwIzNcN",
    "outputId": "1295174d-af61-496e-ffed-3112e8606a22"
   },
   "outputs": [],
   "source": [
    "'''from sklearn.tree import export_graphviz #graphviz works only on 32 bit python version\n",
    "import graphviz\n",
    "import pydotplus\n",
    "from IPython.display import Image \n",
    "\n",
    "dot_data=export_graphviz(classifier,\n",
    "               out_file = None,\n",
    "               feature_names = X,\n",
    "               impurity=False, # impurity- 1 - (gini index)\n",
    "               class_names = y,\n",
    "               filled=True #applies color to the decision tree graph\n",
    "               ) \n",
    "\n",
    "graph = pydotplus.graph_from_dot_data(dot_data)  \n",
    "Image(graph.create_png())'''"
   ]
  },
  {
   "cell_type": "code",
   "execution_count": null,
   "metadata": {
    "colab": {},
    "colab_type": "code",
    "id": "RhxQbZo6oB5-"
   },
   "outputs": [],
   "source": [
    "# VISUALISE TRAINING SET RESULTS\n",
    "from matplotlib.colors import ListedColormap\n",
    "plt.figure(figsize = (7,7))\n",
    "X_set, y_set = X_train, y_train\n",
    "X1, X2 = np.meshgrid(np.arange(start = X_set[:, 0].min() - 1, stop = X_set[:, 0].max() + 1, step = 0.01), np.arange(start = X_set[:, 1].min() - 1, stop = X_set[:, 1].max() + 1, step = 0.01))\n",
    "plt.contourf(X1, X2, classifier.predict(np.array([X1.ravel(), X2.ravel()]).T).reshape(X1.shape), alpha = 0.75, cmap = ListedColormap(('black', 'white')))\n",
    "plt.xlim(X1.min(), X1.max())\n",
    "plt.ylim(X2.min(), X2.max())\n",
    "for i, j in enumerate(np.unique(y_set)):\n",
    " plt.scatter(X_set[y_set == j, 0], X_set[y_set == j, 1], c = ListedColormap(('red', 'orange'))(i), label = j)\n",
    "plt.title('Social_Network_Ads')\n",
    "plt.xlabel('Age and Estimated Salary')\n",
    "plt.ylabel('Purchased or not?')\n",
    "plt.legend()\n",
    "plt.show()"
   ]
  },
  {
   "cell_type": "markdown",
   "metadata": {
    "colab_type": "text",
    "id": "VofXtKBeupvI"
   },
   "source": [
    "The decision tree boundary for the test set and training set will be the same only"
   ]
  },
  {
   "cell_type": "code",
   "execution_count": null,
   "metadata": {
    "colab": {},
    "colab_type": "code",
    "id": "FE1Wt1qFuiAY"
   },
   "outputs": [],
   "source": [
    "# VISUALISE TEST SET RESULTS\n",
    "from matplotlib.colors import ListedColormap\n",
    "plt.figure(figsize = (7,7))\n",
    "X_set, y_set = X_test, y_test\n",
    "X1, X2 = np.meshgrid(np.arange(start = X_set[:, 0].min() - 1, stop = X_set[:, 0].max() + 1, step = 0.01), np.arange(start = X_set[:, 1].min() - 1, stop = X_set[:, 1].max() + 1, step = 0.01))\n",
    "plt.contourf(X1, X2, classifier.predict(np.array([X1.ravel(), X2.ravel()]).T).reshape(X1.shape), alpha = 0.75, cmap = ListedColormap(('black', 'white')))\n",
    "plt.xlim(X1.min(), X1.max())\n",
    "plt.ylim(X2.min(), X2.max())\n",
    "for i, j in enumerate(np.unique(y_set)):\n",
    " plt.scatter(X_set[y_set == j, 0], X_set[y_set == j, 1], c = ListedColormap(('red', 'orange'))(i), label = j)\n",
    "plt.title('Social_Network_Ads')\n",
    "plt.xlabel('Age and Estimated Salary')\n",
    "plt.ylabel('Purchased or not?')\n",
    "plt.legend()\n",
    "plt.show()"
   ]
  }
 ],
 "metadata": {
  "colab": {
   "collapsed_sections": [],
   "machine_shape": "hm",
   "name": "Decision Tree Classification ENTROPY model",
   "provenance": []
  },
  "kernelspec": {
   "display_name": "Python 3",
   "language": "python",
   "name": "python3"
  },
  "language_info": {
   "codemirror_mode": {
    "name": "ipython",
    "version": 3
   },
   "file_extension": ".py",
   "mimetype": "text/x-python",
   "name": "python",
   "nbconvert_exporter": "python",
   "pygments_lexer": "ipython3",
   "version": "3.7.6"
  }
 },
 "nbformat": 4,
 "nbformat_minor": 1
}
