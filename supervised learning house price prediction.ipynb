{
 "cells": [
  {
   "cell_type": "code",
   "execution_count": 362,
   "metadata": {},
   "outputs": [],
   "source": [
    "import numpy as np\n",
    "import pandas as pd\n",
    "import matplotlib.pyplot as plt\n",
    "%matplotlib inline"
   ]
  },
  {
   "cell_type": "code",
   "execution_count": 363,
   "metadata": {},
   "outputs": [
    {
     "data": {
      "text/html": [
       "<div>\n",
       "<style scoped>\n",
       "    .dataframe tbody tr th:only-of-type {\n",
       "        vertical-align: middle;\n",
       "    }\n",
       "\n",
       "    .dataframe tbody tr th {\n",
       "        vertical-align: top;\n",
       "    }\n",
       "\n",
       "    .dataframe thead th {\n",
       "        text-align: right;\n",
       "    }\n",
       "</style>\n",
       "<table border=\"1\" class=\"dataframe\">\n",
       "  <thead>\n",
       "    <tr style=\"text-align: right;\">\n",
       "      <th></th>\n",
       "      <th>Size</th>\n",
       "      <th>Price</th>\n",
       "    </tr>\n",
       "  </thead>\n",
       "  <tbody>\n",
       "    <tr>\n",
       "      <th>0</th>\n",
       "      <td>502.69</td>\n",
       "      <td>6.3</td>\n",
       "    </tr>\n",
       "    <tr>\n",
       "      <th>1</th>\n",
       "      <td>503.65</td>\n",
       "      <td>6.3</td>\n",
       "    </tr>\n",
       "    <tr>\n",
       "      <th>2</th>\n",
       "      <td>505.46</td>\n",
       "      <td>6.5</td>\n",
       "    </tr>\n",
       "    <tr>\n",
       "      <th>3</th>\n",
       "      <td>505.94</td>\n",
       "      <td>6.5</td>\n",
       "    </tr>\n",
       "    <tr>\n",
       "      <th>4</th>\n",
       "      <td>507.02</td>\n",
       "      <td>6.6</td>\n",
       "    </tr>\n",
       "  </tbody>\n",
       "</table>\n",
       "</div>"
      ],
      "text/plain": [
       "     Size  Price\n",
       "0  502.69    6.3\n",
       "1  503.65    6.3\n",
       "2  505.46    6.5\n",
       "3  505.94    6.5\n",
       "4  507.02    6.6"
      ]
     },
     "execution_count": 363,
     "metadata": {},
     "output_type": "execute_result"
    }
   ],
   "source": [
    "import os\n",
    "path=os.getcwd()+ '\\data\\Chennai_house_univariate_train.csv'   #get current working directory for data size values\n",
    "raw_data=pd.read_csv(path)\n",
    "raw_data.head()"
   ]
  },
  {
   "cell_type": "code",
   "execution_count": 364,
   "metadata": {},
   "outputs": [
    {
     "data": {
      "text/html": [
       "<div>\n",
       "<style scoped>\n",
       "    .dataframe tbody tr th:only-of-type {\n",
       "        vertical-align: middle;\n",
       "    }\n",
       "\n",
       "    .dataframe tbody tr th {\n",
       "        vertical-align: top;\n",
       "    }\n",
       "\n",
       "    .dataframe thead th {\n",
       "        text-align: right;\n",
       "    }\n",
       "</style>\n",
       "<table border=\"1\" class=\"dataframe\">\n",
       "  <thead>\n",
       "    <tr style=\"text-align: right;\">\n",
       "      <th></th>\n",
       "      <th>Size</th>\n",
       "      <th>Price</th>\n",
       "    </tr>\n",
       "  </thead>\n",
       "  <tbody>\n",
       "    <tr>\n",
       "      <th>0</th>\n",
       "      <td>-0.182399</td>\n",
       "      <td>-0.169891</td>\n",
       "    </tr>\n",
       "    <tr>\n",
       "      <th>1</th>\n",
       "      <td>-0.181840</td>\n",
       "      <td>-0.169891</td>\n",
       "    </tr>\n",
       "    <tr>\n",
       "      <th>2</th>\n",
       "      <td>-0.180786</td>\n",
       "      <td>-0.167394</td>\n",
       "    </tr>\n",
       "    <tr>\n",
       "      <th>3</th>\n",
       "      <td>-0.180507</td>\n",
       "      <td>-0.167394</td>\n",
       "    </tr>\n",
       "    <tr>\n",
       "      <th>4</th>\n",
       "      <td>-0.179878</td>\n",
       "      <td>-0.166145</td>\n",
       "    </tr>\n",
       "  </tbody>\n",
       "</table>\n",
       "</div>"
      ],
      "text/plain": [
       "       Size     Price\n",
       "0 -0.182399 -0.169891\n",
       "1 -0.181840 -0.169891\n",
       "2 -0.180786 -0.167394\n",
       "3 -0.180507 -0.167394\n",
       "4 -0.179878 -0.166145"
      ]
     },
     "execution_count": 364,
     "metadata": {},
     "output_type": "execute_result"
    },
    {
     "data": {
      "image/png": "[encoded data removed]",
      "text/plain": [
       "<Figure size 720x360 with 1 Axes>"
      ]
     },
     "metadata": {
      "needs_background": "light"
     },
     "output_type": "display_data"
    }
   ],
   "source": [
    "raw_data.plot(kind='scatter',x='Size',y='Price',figsize=(10,5))   #scatter defines type of plot-could use line,bar etc\n",
    "data=(raw_data-raw_data.mean())/(raw_data.max()-raw_data.min())   #gives scattered plot of data in a linear arranged form after arranging features by scaling\n",
    "data.head()"
   ]
  },
  {
   "cell_type": "code",
   "execution_count": 365,
   "metadata": {},
   "outputs": [
    {
     "data": {
      "text/plain": [
       "(97, 2)"
      ]
     },
     "execution_count": 365,
     "metadata": {},
     "output_type": "execute_result"
    }
   ],
   "source": [
    "data.shape  #gives no. of rows and columns of data matrix in csv path file "
   ]
  },
  {
   "cell_type": "code",
   "execution_count": 366,
   "metadata": {},
   "outputs": [
    {
     "data": {
      "text/html": [
       "<div>\n",
       "<style scoped>\n",
       "    .dataframe tbody tr th:only-of-type {\n",
       "        vertical-align: middle;\n",
       "    }\n",
       "\n",
       "    .dataframe tbody tr th {\n",
       "        vertical-align: top;\n",
       "    }\n",
       "\n",
       "    .dataframe thead th {\n",
       "        text-align: right;\n",
       "    }\n",
       "</style>\n",
       "<table border=\"1\" class=\"dataframe\">\n",
       "  <thead>\n",
       "    <tr style=\"text-align: right;\">\n",
       "      <th></th>\n",
       "      <th>Ones</th>\n",
       "      <th>Size</th>\n",
       "      <th>Price</th>\n",
       "    </tr>\n",
       "  </thead>\n",
       "  <tbody>\n",
       "    <tr>\n",
       "      <th>0</th>\n",
       "      <td>1</td>\n",
       "      <td>-0.182399</td>\n",
       "      <td>-0.169891</td>\n",
       "    </tr>\n",
       "    <tr>\n",
       "      <th>1</th>\n",
       "      <td>1</td>\n",
       "      <td>-0.181840</td>\n",
       "      <td>-0.169891</td>\n",
       "    </tr>\n",
       "    <tr>\n",
       "      <th>2</th>\n",
       "      <td>1</td>\n",
       "      <td>-0.180786</td>\n",
       "      <td>-0.167394</td>\n",
       "    </tr>\n",
       "    <tr>\n",
       "      <th>3</th>\n",
       "      <td>1</td>\n",
       "      <td>-0.180507</td>\n",
       "      <td>-0.167394</td>\n",
       "    </tr>\n",
       "    <tr>\n",
       "      <th>4</th>\n",
       "      <td>1</td>\n",
       "      <td>-0.179878</td>\n",
       "      <td>-0.166145</td>\n",
       "    </tr>\n",
       "  </tbody>\n",
       "</table>\n",
       "</div>"
      ],
      "text/plain": [
       "   Ones      Size     Price\n",
       "0     1 -0.182399 -0.169891\n",
       "1     1 -0.181840 -0.169891\n",
       "2     1 -0.180786 -0.167394\n",
       "3     1 -0.180507 -0.167394\n",
       "4     1 -0.179878 -0.166145"
      ]
     },
     "execution_count": 366,
     "metadata": {},
     "output_type": "execute_result"
    }
   ],
   "source": [
    "data.insert(0,'Ones',1)   #in first column,we insert x0=1 for being able to get transposing matrix theta\n",
    "data.head()"
   ]
  },
  {
   "cell_type": "code",
   "execution_count": 367,
   "metadata": {},
   "outputs": [
    {
     "name": "stdout",
     "output_type": "stream",
     "text": [
      "3\n"
     ]
    }
   ],
   "source": [
    "cols=data.shape[1]   #gives no. of columns\n",
    "print(cols)"
   ]
  },
  {
   "cell_type": "code",
   "execution_count": 368,
   "metadata": {},
   "outputs": [],
   "source": [
    "x=data.iloc[:,0:cols-1]       #ones and size column\n",
    "y=data.iloc[:,cols-1:cols]    #gives last column ie price\n",
    "#iloc is used for indexing in pandas"
   ]
  },
  {
   "cell_type": "code",
   "execution_count": 369,
   "metadata": {},
   "outputs": [],
   "source": [
    "x=np.matrix(x)\n",
    "y=np.matrix(y)\n",
    "theta=np.matrix(np.array([0,0]))"
   ]
  },
  {
   "cell_type": "code",
   "execution_count": 370,
   "metadata": {},
   "outputs": [
    {
     "data": {
      "text/plain": [
       "((97, 2), (1, 2), (97, 1))"
      ]
     },
     "execution_count": 370,
     "metadata": {},
     "output_type": "execute_result"
    }
   ],
   "source": [
    "x.shape,theta.shape,y.shape   #tells no. of rows and columns"
   ]
  },
  {
   "cell_type": "code",
   "execution_count": 371,
   "metadata": {},
   "outputs": [
    {
     "data": {
      "text/plain": [
       "0.024346853685025278"
      ]
     },
     "execution_count": 371,
     "metadata": {},
     "output_type": "execute_result"
    }
   ],
   "source": [
    "def Compute_Error(x,y,theta):\n",
    "    inner=np.power(((x*theta.T)-y),2)\n",
    "    return np.sum(inner)/(2*len(x))\n",
    "Compute_Error(x,y,theta)"
   ]
  },
  {
   "cell_type": "code",
   "execution_count": 372,
   "metadata": {},
   "outputs": [],
   "source": [
    "learn_rate=1\n",
    "iters=150\n",
    "def gradientDescent(x,y,theta,learn_rate,iters):\n",
    "    temp=np.matrix(np.zeros(theta.shape))\n",
    "    parameters=int(theta.ravel().shape[1])   #theta.ravel makes it a 1D array, not needed necessarily here\n",
    "    cost=np.zeros(iters)\n",
    "    for i in range(iters):\n",
    "        error= (x*theta.T)-y\n",
    "        for j in range(parameters):\n",
    "            term=np.multiply(error,x[:,j])\n",
    "            temp[0,j]=theta[0,j]-((learn_rate/len(x))*np.sum(term))\n",
    "        theta=temp\n",
    "        cost[i]=Compute_Error(x,y,theta)\n",
    "    return theta,cost"
   ]
  },
  {
   "cell_type": "code",
   "execution_count": 373,
   "metadata": {},
   "outputs": [
    {
     "name": "stdout",
     "output_type": "stream",
     "text": [
      "[[-1.02116196e-16  9.82955251e-01]] [2.19673183e-02 1.98208708e-02 1.78846789e-02 1.61381471e-02\n",
      " 1.45626971e-02 1.31415706e-02 1.18596508e-02 1.07033016e-02\n",
      " 9.66022291e-03 8.71931915e-03 7.87058178e-03 7.10498263e-03\n",
      " 6.41437789e-03 5.79142147e-03 5.22948685e-03 4.72259664e-03\n",
      " 4.26535895e-03 3.85291006e-03 3.48086268e-03 3.14525926e-03\n",
      " 2.84252994e-03 2.56945453e-03 2.32312827e-03 2.10093094e-03\n",
      " 1.90049899e-03 1.71970039e-03 1.55661194e-03 1.40949886e-03\n",
      " 1.27679627e-03 1.15709258e-03 1.04911449e-03 9.51713408e-04\n",
      " 8.63853270e-04 7.84599488e-04 7.13109024e-04 6.48621422e-04\n",
      " 5.90450714e-04 5.37978129e-04 4.90645505e-04 4.47949357e-04\n",
      " 4.09435518e-04 3.74694309e-04 3.43356182e-04 3.15087786e-04\n",
      " 2.89588427e-04 2.66586861e-04 2.45838419e-04 2.27122393e-04\n",
      " 2.10239700e-04 1.95010753e-04 1.81273561e-04 1.68881998e-04\n",
      " 1.57704253e-04 1.47621426e-04 1.38526264e-04 1.30322020e-04\n",
      " 1.22921424e-04 1.16245755e-04 1.10224003e-04 1.04792112e-04\n",
      " 9.98923035e-05 9.54724563e-05 9.14855561e-05 8.78891934e-05\n",
      " 8.46451130e-05 8.17188072e-05 7.90791481e-05 7.66980574e-05\n",
      " 7.45502068e-05 7.26127493e-05 7.08650758e-05 6.92885960e-05\n",
      " 6.78665406e-05 6.65837828e-05 6.54266778e-05 6.43829173e-05\n",
      " 6.34413985e-05 6.25921063e-05 6.18260067e-05 6.11349506e-05\n",
      " 6.05115869e-05 5.99492850e-05 5.94420635e-05 5.89845269e-05\n",
      " 5.85718084e-05 5.81995178e-05 5.78636950e-05 5.75607678e-05\n",
      " 5.72875139e-05 5.70410267e-05 5.68186841e-05 5.66181211e-05\n",
      " 5.64372043e-05 5.62740093e-05 5.61268000e-05 5.59940107e-05\n",
      " 5.58742288e-05 5.57661801e-05 5.56687154e-05 5.55807978e-05\n",
      " 5.55014922e-05 5.54299550e-05 5.53654252e-05 5.53072165e-05\n",
      " 5.52547096e-05 5.52073461e-05 5.51646220e-05 5.51260830e-05\n",
      " 5.50913191e-05 5.50599605e-05 5.50316736e-05 5.50061576e-05\n",
      " 5.49831410e-05 5.49623790e-05 5.49436507e-05 5.49267570e-05\n",
      " 5.49115181e-05 5.48977719e-05 5.48853722e-05 5.48741872e-05\n",
      " 5.48640978e-05 5.48549967e-05 5.48467871e-05 5.48393816e-05\n",
      " 5.48327016e-05 5.48266759e-05 5.48212405e-05 5.48163374e-05\n",
      " 5.48119147e-05 5.48079252e-05 5.48043265e-05 5.48010803e-05\n",
      " 5.47981521e-05 5.47955107e-05 5.47931280e-05 5.47909788e-05\n",
      " 5.47890401e-05 5.47872912e-05 5.47857137e-05 5.47842907e-05\n",
      " 5.47830072e-05 5.47818493e-05 5.47808048e-05 5.47798627e-05\n",
      " 5.47790129e-05 5.47782463e-05 5.47775548e-05 5.47769310e-05\n",
      " 5.47763683e-05 5.47758608e-05]\n"
     ]
    }
   ],
   "source": [
    "theta,cost=gradientDescent(x,y,theta,learn_rate,iters)\n",
    "print (theta,cost)"
   ]
  },
  {
   "cell_type": "code",
   "execution_count": 374,
   "metadata": {},
   "outputs": [
    {
     "data": {
      "text/plain": [
       "5.477586076298728e-05"
      ]
     },
     "execution_count": 374,
     "metadata": {},
     "output_type": "execute_result"
    }
   ],
   "source": [
    "Compute_Error(x,y,theta)\n"
   ]
  },
  {
   "cell_type": "code",
   "execution_count": 375,
   "metadata": {},
   "outputs": [],
   "source": [
    "X= data.Size"
   ]
  },
  {
   "cell_type": "code",
   "execution_count": 376,
   "metadata": {},
   "outputs": [],
   "source": [
    "model_price=x*theta.T"
   ]
  },
  {
   "cell_type": "code",
   "execution_count": 377,
   "metadata": {},
   "outputs": [
    {
     "data": {
      "text/plain": [
       "Text(0.5, 1.0, 'Predicted Price vs Size')"
      ]
     },
     "execution_count": 377,
     "metadata": {},
     "output_type": "execute_result"
    },
    {
     "data": {
      "image/png": "[encoded data removed]",
      "text/plain": [
       "<Figure size 864x576 with 1 Axes>"
      ]
     },
     "metadata": {
      "needs_background": "light"
     },
     "output_type": "display_data"
    }
   ],
   "source": [
    "fig,ax=plt.subplots(figsize=(12,8))\n",
    "ax.plot(X,model_price,'r',label='Prediction')\n",
    "ax.scatter(data.Size,data.Price,label='Training Data')\n",
    "ax.legend(loc=2)\n",
    "ax.set_xlabel('Size')\n",
    "ax.set_ylabel('Price')\n",
    "ax.set_title('Predicted Price vs Size')"
   ]
  },
  {
   "cell_type": "code",
   "execution_count": 378,
   "metadata": {},
   "outputs": [
    {
     "data": {
      "text/plain": [
       "Text(0.5, 1.0, 'Error vs Iterations')"
      ]
     },
     "execution_count": 378,
     "metadata": {},
     "output_type": "execute_result"
    },
    {
     "data": {
      "image/png": "[encoded data removed]",
      "text/plain": [
       "<Figure size 864x576 with 1 Axes>"
      ]
     },
     "metadata": {
      "needs_background": "light"
     },
     "output_type": "display_data"
    }
   ],
   "source": [
    "fig,ax=plt.subplots(figsize=(12,8))\n",
    "ax.plot(np.arange(iters),cost,'r')\n",
    "ax.set_xlabel('Iterations')\n",
    "ax.set_ylabel('Cost')\n",
    "ax.set_title('Error vs Iterations')"
   ]
  },
  {
   "cell_type": "code",
   "execution_count": 379,
   "metadata": {},
   "outputs": [
    {
     "name": "stdout",
     "output_type": "stream",
     "text": [
      "error %=0.10627319469129685\n",
      "accuracy %=99.8937268053087\n"
     ]
    }
   ],
   "source": [
    "import math\n",
    "#mean absolute percetage error\n",
    "erro_r=[np.power((b-a),2) for (a,b) in zip(model_price,y)]\n",
    "error0=np.sum(erro_r)\n",
    "error1=math.sqrt(error0)\n",
    "error=(error1/len(y))*100\n",
    "print(\"error %={}\".format(error))\n",
    "accuracy=100-error\n",
    "print(\"accuracy %={}\".format(accuracy))"
   ]
  },
  {
   "cell_type": "code",
   "execution_count": 381,
   "metadata": {},
   "outputs": [
    {
     "name": "stdout",
     "output_type": "stream",
     "text": [
      "Enter the size of the house in sq ft:507\n",
      "Your house cost is 5.744698993005374 Lakhs  ( + or - ) 0.006111570106063446 Lakhs\n"
     ]
    }
   ],
   "source": [
    "def predict (new_theta,accuracy):\n",
    "    size=float(input(\"Enter the size of the house in sq ft:\"))\n",
    "    #Mean normalisation\n",
    "    size=(size-raw_data.Size.mean())/(raw_data.Size.max()-raw_data.Size.min())\n",
    "    #model\n",
    "    price=(new_theta[0,0]+(theta[0,1]*size))\n",
    "    #reverse mean normalization ie scaling features back\n",
    "    Predicted_Price=(price*(raw_data.Price.max()-raw_data.Price.min()))+(raw_data.Price.mean())\n",
    "    Price_at_Max_Accuracy=(Predicted_Price*(1/accuracy)*100)\n",
    "    Price_range=Price_at_Max_Accuracy-Predicted_Price\n",
    "    return Predicted_Price,Price_range\n",
    "Predicted_Price,Price_range=predict(theta,accuracy)\n",
    "print('Your house cost is '+str(Predicted_Price)+' Lakhs '+' ( + or - ) '+str(Price_range)+' Lakhs')\n",
    "    "
   ]
  },
  {
   "cell_type": "code",
   "execution_count": null,
   "metadata": {},
   "outputs": [],
   "source": []
  }
 ],
 "metadata": {
  "kernelspec": {
   "display_name": "Python 3",
   "language": "python",
   "name": "python3"
  },
  "language_info": {
   "codemirror_mode": {
    "name": "ipython",
    "version": 3
   },
   "file_extension": ".py",
   "mimetype": "text/x-python",
   "name": "python",
   "nbconvert_exporter": "python",
   "pygments_lexer": "ipython3",
   "version": "3.7.2"
  }
 },
 "nbformat": 4,
 "nbformat_minor": 2
}
