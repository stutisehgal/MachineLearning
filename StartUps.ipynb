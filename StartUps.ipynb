{
  "nbformat": 4,
  "nbformat_minor": 0,
  "metadata": {
    "colab": {
      "name": "StartUps.ipynb",
      "provenance": [],
      "collapsed_sections": [],
      "authorship_tag": "ABX9TyMRoNgffg/SZZHLkbwez3e8",
      "include_colab_link": true
    },
    "kernelspec": {
      "name": "python3",
      "display_name": "Python 3"
    }
  },
  "cells": [
    {
      "cell_type": "markdown",
      "metadata": {
        "id": "view-in-github",
        "colab_type": "text"
      },
      "source": [
        "<a href=\"https://colab.research.google.com/github/stutisehgal/MachineLearning/blob/master/StartUps.ipynb\" target=\"_parent\"><img src=\"https://colab.research.google.com/assets/colab-badge.svg\" alt=\"Open In Colab\"/></a>"
      ]
    },
    {
      "cell_type": "markdown",
      "metadata": {
        "id": "nuwO3bLdCgJb",
        "colab_type": "text"
      },
      "source": [
        "Based on R&D, Administration and Marketing spend as integer type features and Location State as categorical type feature ; predict investment profit for company\n"
      ]
    },
    {
      "cell_type": "markdown",
      "metadata": {
        "id": "2zu3ez43DI8E",
        "colab_type": "text"
      },
      "source": [
        "Importing libraries"
      ]
    },
    {
      "cell_type": "code",
      "metadata": {
        "id": "BuvYnV-8CjGz",
        "colab_type": "code",
        "colab": {}
      },
      "source": [
        "import numpy as np\n",
        "import pandas as pd\n",
        "import matplotlib.pyplot as plt"
      ],
      "execution_count": 0,
      "outputs": []
    },
    {
      "cell_type": "markdown",
      "metadata": {
        "id": "tTTOGAvaCvH4",
        "colab_type": "text"
      },
      "source": [
        "Importing dataset"
      ]
    },
    {
      "cell_type": "code",
      "metadata": {
        "id": "tTd_bJ-ZCwoO",
        "colab_type": "code",
        "colab": {}
      },
      "source": [
        "dataset=pd.read_csv('50_Startups.csv')\n",
        "X=dataset.iloc [ : , : -1 ].values  #independent features variable matrix\n",
        "y=dataset.iloc [ : , -1 ].values    #dependent target output matrix"
      ],
      "execution_count": 0,
      "outputs": []
    },
    {
      "cell_type": "code",
      "metadata": {
        "id": "aFwiFR1gDi8p",
        "colab_type": "code",
        "outputId": "e9751c8a-a0cf-4c43-ff6f-90934b58c5d1",
        "colab": {
          "base_uri": "https://localhost:8080/",
          "height": 340
        }
      },
      "source": [
        "dataset.head(10) #to know the column labels of the dataset"
      ],
      "execution_count": 105,
      "outputs": [
        {
          "output_type": "execute_result",
          "data": {
            "text/html": [
              "<div>\n",
              "<style scoped>\n",
              "    .dataframe tbody tr th:only-of-type {\n",
              "        vertical-align: middle;\n",
              "    }\n",
              "\n",
              "    .dataframe tbody tr th {\n",
              "        vertical-align: top;\n",
              "    }\n",
              "\n",
              "    .dataframe thead th {\n",
              "        text-align: right;\n",
              "    }\n",
              "</style>\n",
              "<table border=\"1\" class=\"dataframe\">\n",
              "  <thead>\n",
              "    <tr style=\"text-align: right;\">\n",
              "      <th></th>\n",
              "      <th>R&amp;D Spend</th>\n",
              "      <th>Administration</th>\n",
              "      <th>Marketing Spend</th>\n",
              "      <th>State</th>\n",
              "      <th>Profit</th>\n",
              "    </tr>\n",
              "  </thead>\n",
              "  <tbody>\n",
              "    <tr>\n",
              "      <th>0</th>\n",
              "      <td>165349.20</td>\n",
              "      <td>136897.80</td>\n",
              "      <td>471784.10</td>\n",
              "      <td>New York</td>\n",
              "      <td>192261.83</td>\n",
              "    </tr>\n",
              "    <tr>\n",
              "      <th>1</th>\n",
              "      <td>162597.70</td>\n",
              "      <td>151377.59</td>\n",
              "      <td>443898.53</td>\n",
              "      <td>California</td>\n",
              "      <td>191792.06</td>\n",
              "    </tr>\n",
              "    <tr>\n",
              "      <th>2</th>\n",
              "      <td>153441.51</td>\n",
              "      <td>101145.55</td>\n",
              "      <td>407934.54</td>\n",
              "      <td>Florida</td>\n",
              "      <td>191050.39</td>\n",
              "    </tr>\n",
              "    <tr>\n",
              "      <th>3</th>\n",
              "      <td>144372.41</td>\n",
              "      <td>118671.85</td>\n",
              "      <td>383199.62</td>\n",
              "      <td>New York</td>\n",
              "      <td>182901.99</td>\n",
              "    </tr>\n",
              "    <tr>\n",
              "      <th>4</th>\n",
              "      <td>142107.34</td>\n",
              "      <td>91391.77</td>\n",
              "      <td>366168.42</td>\n",
              "      <td>Florida</td>\n",
              "      <td>166187.94</td>\n",
              "    </tr>\n",
              "    <tr>\n",
              "      <th>5</th>\n",
              "      <td>131876.90</td>\n",
              "      <td>99814.71</td>\n",
              "      <td>362861.36</td>\n",
              "      <td>New York</td>\n",
              "      <td>156991.12</td>\n",
              "    </tr>\n",
              "    <tr>\n",
              "      <th>6</th>\n",
              "      <td>134615.46</td>\n",
              "      <td>147198.87</td>\n",
              "      <td>127716.82</td>\n",
              "      <td>California</td>\n",
              "      <td>156122.51</td>\n",
              "    </tr>\n",
              "    <tr>\n",
              "      <th>7</th>\n",
              "      <td>130298.13</td>\n",
              "      <td>145530.06</td>\n",
              "      <td>323876.68</td>\n",
              "      <td>Florida</td>\n",
              "      <td>155752.60</td>\n",
              "    </tr>\n",
              "    <tr>\n",
              "      <th>8</th>\n",
              "      <td>120542.52</td>\n",
              "      <td>148718.95</td>\n",
              "      <td>311613.29</td>\n",
              "      <td>New York</td>\n",
              "      <td>152211.77</td>\n",
              "    </tr>\n",
              "    <tr>\n",
              "      <th>9</th>\n",
              "      <td>123334.88</td>\n",
              "      <td>108679.17</td>\n",
              "      <td>304981.62</td>\n",
              "      <td>California</td>\n",
              "      <td>149759.96</td>\n",
              "    </tr>\n",
              "  </tbody>\n",
              "</table>\n",
              "</div>"
            ],
            "text/plain": [
              "   R&D Spend  Administration  Marketing Spend       State     Profit\n",
              "0  165349.20       136897.80        471784.10    New York  192261.83\n",
              "1  162597.70       151377.59        443898.53  California  191792.06\n",
              "2  153441.51       101145.55        407934.54     Florida  191050.39\n",
              "3  144372.41       118671.85        383199.62    New York  182901.99\n",
              "4  142107.34        91391.77        366168.42     Florida  166187.94\n",
              "5  131876.90        99814.71        362861.36    New York  156991.12\n",
              "6  134615.46       147198.87        127716.82  California  156122.51\n",
              "7  130298.13       145530.06        323876.68     Florida  155752.60\n",
              "8  120542.52       148718.95        311613.29    New York  152211.77\n",
              "9  123334.88       108679.17        304981.62  California  149759.96"
            ]
          },
          "metadata": {
            "tags": []
          },
          "execution_count": 105
        }
      ]
    },
    {
      "cell_type": "code",
      "metadata": {
        "id": "YOOiG-WtDk7X",
        "colab_type": "code",
        "outputId": "d9430094-c00d-49a1-e17d-7a7e5d16124f",
        "colab": {
          "base_uri": "https://localhost:8080/",
          "height": 194
        }
      },
      "source": [
        "dataset.tail() #to know the row index of last entry in the dataset ie the total number of elements"
      ],
      "execution_count": 106,
      "outputs": [
        {
          "output_type": "execute_result",
          "data": {
            "text/html": [
              "<div>\n",
              "<style scoped>\n",
              "    .dataframe tbody tr th:only-of-type {\n",
              "        vertical-align: middle;\n",
              "    }\n",
              "\n",
              "    .dataframe tbody tr th {\n",
              "        vertical-align: top;\n",
              "    }\n",
              "\n",
              "    .dataframe thead th {\n",
              "        text-align: right;\n",
              "    }\n",
              "</style>\n",
              "<table border=\"1\" class=\"dataframe\">\n",
              "  <thead>\n",
              "    <tr style=\"text-align: right;\">\n",
              "      <th></th>\n",
              "      <th>R&amp;D Spend</th>\n",
              "      <th>Administration</th>\n",
              "      <th>Marketing Spend</th>\n",
              "      <th>State</th>\n",
              "      <th>Profit</th>\n",
              "    </tr>\n",
              "  </thead>\n",
              "  <tbody>\n",
              "    <tr>\n",
              "      <th>45</th>\n",
              "      <td>1000.23</td>\n",
              "      <td>124153.04</td>\n",
              "      <td>1903.93</td>\n",
              "      <td>New York</td>\n",
              "      <td>64926.08</td>\n",
              "    </tr>\n",
              "    <tr>\n",
              "      <th>46</th>\n",
              "      <td>1315.46</td>\n",
              "      <td>115816.21</td>\n",
              "      <td>297114.46</td>\n",
              "      <td>Florida</td>\n",
              "      <td>49490.75</td>\n",
              "    </tr>\n",
              "    <tr>\n",
              "      <th>47</th>\n",
              "      <td>0.00</td>\n",
              "      <td>135426.92</td>\n",
              "      <td>0.00</td>\n",
              "      <td>California</td>\n",
              "      <td>42559.73</td>\n",
              "    </tr>\n",
              "    <tr>\n",
              "      <th>48</th>\n",
              "      <td>542.05</td>\n",
              "      <td>51743.15</td>\n",
              "      <td>0.00</td>\n",
              "      <td>New York</td>\n",
              "      <td>35673.41</td>\n",
              "    </tr>\n",
              "    <tr>\n",
              "      <th>49</th>\n",
              "      <td>0.00</td>\n",
              "      <td>116983.80</td>\n",
              "      <td>45173.06</td>\n",
              "      <td>California</td>\n",
              "      <td>14681.40</td>\n",
              "    </tr>\n",
              "  </tbody>\n",
              "</table>\n",
              "</div>"
            ],
            "text/plain": [
              "    R&D Spend  Administration  Marketing Spend       State    Profit\n",
              "45    1000.23       124153.04          1903.93    New York  64926.08\n",
              "46    1315.46       115816.21        297114.46     Florida  49490.75\n",
              "47       0.00       135426.92             0.00  California  42559.73\n",
              "48     542.05        51743.15             0.00    New York  35673.41\n",
              "49       0.00       116983.80         45173.06  California  14681.40"
            ]
          },
          "metadata": {
            "tags": []
          },
          "execution_count": 106
        }
      ]
    },
    {
      "cell_type": "code",
      "metadata": {
        "id": "AhP1LpeRD-hb",
        "colab_type": "code",
        "outputId": "4fd3a36a-fd03-4dee-bd5e-762625023fa8",
        "colab": {
          "base_uri": "https://localhost:8080/",
          "height": 35
        }
      },
      "source": [
        "dataset.shape #to know the number of rows and columns ie total number of elements in the dataset"
      ],
      "execution_count": 107,
      "outputs": [
        {
          "output_type": "execute_result",
          "data": {
            "text/plain": [
              "(50, 5)"
            ]
          },
          "metadata": {
            "tags": []
          },
          "execution_count": 107
        }
      ]
    },
    {
      "cell_type": "markdown",
      "metadata": {
        "id": "Efw2w5wIEY0f",
        "colab_type": "text"
      },
      "source": [
        "Checking and Handling Missing Values"
      ]
    },
    {
      "cell_type": "code",
      "metadata": {
        "id": "DcWe00XdEYHv",
        "colab_type": "code",
        "outputId": "546635e2-b1ee-4a0c-bd54-6036c188b9f3",
        "colab": {
          "base_uri": "https://localhost:8080/",
          "height": 124
        }
      },
      "source": [
        "dataset.isnull().sum()"
      ],
      "execution_count": 108,
      "outputs": [
        {
          "output_type": "execute_result",
          "data": {
            "text/plain": [
              "R&D Spend          0\n",
              "Administration     0\n",
              "Marketing Spend    0\n",
              "State              0\n",
              "Profit             0\n",
              "dtype: int64"
            ]
          },
          "metadata": {
            "tags": []
          },
          "execution_count": 108
        }
      ]
    },
    {
      "cell_type": "markdown",
      "metadata": {
        "id": "SnC_m_FxFT8D",
        "colab_type": "text"
      },
      "source": [
        "Encoding categorical value in State column\n",
        "\n",
        "Avoid dummy variable trap!!!"
      ]
    },
    {
      "cell_type": "code",
      "metadata": {
        "id": "RgAz4a9sFakP",
        "colab_type": "code",
        "colab": {
          "base_uri": "https://localhost:8080/",
          "height": 55
        },
        "outputId": "9d30108b-bc69-4bfa-b0b5-c7db3aa8acf5"
      },
      "source": [
        "from sklearn.compose import ColumnTransformer\n",
        "from sklearn.preprocessing import OneHotEncoder\n",
        "ct=ColumnTransformer(transformers=[('encoder',OneHotEncoder(),[3])],remainder='passthrough')\n",
        "X=np.array(ct.fit_transform(X))\n",
        "'''from sklearn.preprocessing import LabelEncoder,OneHotEncoder\n",
        "label=LabelEncoder()\n",
        "X[ : ,3] = label.fit_transform( X[ : ,3])\n",
        "encoder=OneHotEncoder(categorical_features=[3])\n",
        "X=encoder.fit_transform(X).toarray()'''\n",
        "\n"
      ],
      "execution_count": 109,
      "outputs": [
        {
          "output_type": "execute_result",
          "data": {
            "text/plain": [
              "'from sklearn.preprocessing import LabelEncoder,OneHotEncoder\\nlabel=LabelEncoder()\\nX[ : ,3] = label.fit_transform( X[ : ,3])\\nencoder=OneHotEncoder(categorical_features=[3])\\nX=encoder.fit_transform(X).toarray()'"
            ]
          },
          "metadata": {
            "tags": []
          },
          "execution_count": 109
        }
      ]
    },
    {
      "cell_type": "markdown",
      "metadata": {
        "id": "28CZQ14baSOA",
        "colab_type": "text"
      },
      "source": [
        "Splitting dataset into training set and test set"
      ]
    },
    {
      "cell_type": "code",
      "metadata": {
        "id": "BlGiT_WSEEsB",
        "colab_type": "code",
        "outputId": "c2bbcda4-cda6-4b42-e5af-30bb18f49a0b",
        "colab": {
          "base_uri": "https://localhost:8080/",
          "height": 52
        }
      },
      "source": [
        "from sklearn.model_selection import train_test_split\n",
        "X_train,X_test,y_train,y_test = train_test_split( X , y , test_size=0.2 , random_state=0)\n",
        "print(y_test) #since dataset has 50 values in each column, test set will have 10 values in each column"
      ],
      "execution_count": 110,
      "outputs": [
        {
          "output_type": "stream",
          "text": [
            "[103282.38 144259.4  146121.95  77798.83 191050.39 105008.31  81229.06\n",
            "  97483.56 110352.25 166187.94]\n"
          ],
          "name": "stdout"
        }
      ]
    },
    {
      "cell_type": "markdown",
      "metadata": {
        "id": "24ukHVHMYwbm",
        "colab_type": "text"
      },
      "source": [
        "Feature Scaling"
      ]
    },
    {
      "cell_type": "code",
      "metadata": {
        "id": "kXYtPkK5YiJe",
        "colab_type": "code",
        "outputId": "a1803736-6d8f-4490-93cc-ab4c23dff57b",
        "colab": {
          "base_uri": "https://localhost:8080/",
          "height": 906
        }
      },
      "source": [
        "from sklearn.preprocessing import StandardScaler\n",
        "ss_X=StandardScaler()\n",
        "X_train = ss_X.fit_transform( X_train )\n",
        "X_test = ss_X.fit_transform( X_test )\n",
        "print(X_train)\n",
        "print(X_test)\n"
      ],
      "execution_count": 111,
      "outputs": [
        {
          "output_type": "stream",
          "text": [
            "[[-0.82  1.73 -0.73 -0.35 -0.79  0.1 ]\n",
            " [-0.82 -0.58  1.36 -0.56 -1.48  0.03]\n",
            " [-0.82  1.73 -0.73  0.08  0.8  -0.55]\n",
            " [ 1.22 -0.58 -0.73 -0.55  1.33  0.07]\n",
            " [-0.82  1.73 -0.73  0.43 -0.36  0.75]\n",
            " [-0.82  1.73 -0.73  1.27  0.86  0.99]\n",
            " [-0.82  1.73 -0.73  1.05  1.28  0.44]\n",
            " [-0.82 -0.58  1.36 -1.53  0.03 -1.62]\n",
            " [-0.82 -0.58  1.36 -1.54 -2.77 -1.64]\n",
            " [-0.82 -0.58  1.36 -0.13  1.14 -0.77]\n",
            " [-0.82 -0.58  1.36  0.93 -0.03  0.48]\n",
            " [-0.82  1.73 -0.73 -0.21 -0.3  -0.9 ]\n",
            " [ 1.22 -0.58 -0.73 -0.18  0.23 -1.26]\n",
            " [ 1.22 -0.58 -0.73  0.14 -0.07  0.5 ]\n",
            " [ 1.22 -0.58 -0.73 -1.04 -1.05 -0.44]\n",
            " [ 1.22 -0.58 -0.73  0.1  -0.37  0.78]\n",
            " [-0.82 -0.58  1.36 -1.22  0.15 -1.35]\n",
            " [-0.82 -0.58  1.36  1.06  0.98  0.89]\n",
            " [ 1.22 -0.58 -0.73  0.44  0.47  0.41]\n",
            " [ 1.22 -0.58 -0.73 -0.15  0.62 -0.52]\n",
            " [-0.82 -0.58  1.36  1.3  -0.91  1.3 ]\n",
            " [-0.82 -0.58  1.36  0.5   0.84  0.65]\n",
            " [ 1.22 -0.58 -0.73 -0.93 -0.19 -0.24]\n",
            " [ 1.22 -0.58 -0.73 -1.55 -0.25 -1.27]\n",
            " [ 1.22 -0.58 -0.73  1.97  1.08  1.96]\n",
            " [-0.82  1.73 -0.73  0.48  0.15  0.39]\n",
            " [ 1.22 -0.58 -0.73 -0.6  -2.79 -0.04]\n",
            " [-0.82 -0.58  1.36  0.12 -0.93 -0.5 ]\n",
            " [ 1.22 -0.58 -0.73  1.36  0.92 -0.6 ]\n",
            " [-0.82  1.73 -0.73 -0.09 -0.68  0.83]\n",
            " [-0.82  1.73 -0.73 -0.93  0.14 -0.01]\n",
            " [-0.82 -0.58  1.36  0.15  1.17  0.79]\n",
            " [-0.82 -0.58  1.36  0.32  1.16 -1.64]\n",
            " [ 1.22 -0.58 -0.73  1.12 -0.57  0.83]\n",
            " [ 1.22 -0.58 -0.73 -0.72 -1.56 -0.22]\n",
            " [-0.82  1.73 -0.73 -1.52 -0.29  0.77]\n",
            " [-0.82 -0.58  1.36  1.57 -0.18  1.47]\n",
            " [-0.82 -0.58  1.36  2.03  0.52  2.18]\n",
            " [ 1.22 -0.58 -0.73 -1.55  0.46 -1.64]\n",
            " [ 1.22 -0.58 -0.73 -1.07  1.21 -1.41]]\n",
            "[[-0.33  0.82 -0.65 -0.39  2.11 -1.24]\n",
            " [ 3.   -1.22 -0.65  0.45 -0.65  0.03]\n",
            " [-0.33  0.82 -0.65  0.48 -0.08 -0.17]\n",
            " [-0.33  0.82 -0.65 -1.31 -0.86 -0.79]\n",
            " [-0.33  0.82 -0.65  1.73 -0.37  1.56]\n",
            " [-0.33 -1.22  1.53 -0.24  0.45  1.03]\n",
            " [-0.33 -1.22  1.53 -1.49 -1.44 -0.59]\n",
            " [-0.33 -1.22  1.53 -0.5   1.2  -1.53]\n",
            " [-0.33  0.82 -0.65 -0.19  0.29  0.55]\n",
            " [-0.33  0.82 -0.65  1.46 -0.66  1.15]]\n"
          ],
          "name": "stdout"
        }
      ]
    },
    {
      "cell_type": "markdown",
      "metadata": {
        "id": "DkoyZUtWad4C",
        "colab_type": "text"
      },
      "source": [
        "Apply multiple linear regression\n",
        "\n",
        "Multiple linear regression class algorithm already takes care of dummy variable trap and feature selection of significant features with higher 'p' value that affect the target output y\n",
        "\n",
        "y= c + m1x1 + m2x2 + m3x3 + ... +mnxn"
      ]
    },
    {
      "cell_type": "code",
      "metadata": {
        "id": "l_Gvz0C8aq4f",
        "colab_type": "code",
        "outputId": "18b0a0e7-80e9-4ec6-cb84-b6a3e405c533",
        "colab": {
          "base_uri": "https://localhost:8080/",
          "height": 35
        }
      },
      "source": [
        "from sklearn.linear_model import LinearRegression\n",
        "lr=LinearRegression()\n",
        "#object of class\n",
        "lr.fit(X_train,y_train)"
      ],
      "execution_count": 112,
      "outputs": [
        {
          "output_type": "execute_result",
          "data": {
            "text/plain": [
              "LinearRegression(copy_X=True, fit_intercept=True, n_jobs=None, normalize=False)"
            ]
          },
          "metadata": {
            "tags": []
          },
          "execution_count": 112
        }
      ]
    },
    {
      "cell_type": "code",
      "metadata": {
        "id": "nydMG-HQeSSK",
        "colab_type": "code",
        "outputId": "56c5f1da-350d-4e05-895f-181a94a5f84f",
        "colab": {
          "base_uri": "https://localhost:8080/",
          "height": 35
        }
      },
      "source": [
        "lr.intercept_"
      ],
      "execution_count": 113,
      "outputs": [
        {
          "output_type": "execute_result",
          "data": {
            "text/plain": [
              "109446.44724999998"
            ]
          },
          "metadata": {
            "tags": []
          },
          "execution_count": 113
        }
      ]
    },
    {
      "cell_type": "code",
      "metadata": {
        "id": "qDfCd9u7eVHk",
        "colab_type": "code",
        "outputId": "6cfee4c8-e368-4b62-ebfc-8642810268a4",
        "colab": {
          "base_uri": "https://localhost:8080/",
          "height": 223
        }
      },
      "source": [
        "coeff_df = pd.DataFrame({'Coefficient':lr.coef_})  \n",
        "coeff_df"
      ],
      "execution_count": 114,
      "outputs": [
        {
          "output_type": "execute_result",
          "data": {
            "text/html": [
              "<div>\n",
              "<style scoped>\n",
              "    .dataframe tbody tr th:only-of-type {\n",
              "        vertical-align: middle;\n",
              "    }\n",
              "\n",
              "    .dataframe tbody tr th {\n",
              "        vertical-align: top;\n",
              "    }\n",
              "\n",
              "    .dataframe thead th {\n",
              "        text-align: right;\n",
              "    }\n",
              "</style>\n",
              "<table border=\"1\" class=\"dataframe\">\n",
              "  <thead>\n",
              "    <tr style=\"text-align: right;\">\n",
              "      <th></th>\n",
              "      <th>Coefficient</th>\n",
              "    </tr>\n",
              "  </thead>\n",
              "  <tbody>\n",
              "    <tr>\n",
              "      <th>0</th>\n",
              "      <td>15.526639</td>\n",
              "    </tr>\n",
              "    <tr>\n",
              "      <th>1</th>\n",
              "      <td>-401.658486</td>\n",
              "    </tr>\n",
              "    <tr>\n",
              "      <th>2</th>\n",
              "      <td>348.694671</td>\n",
              "    </tr>\n",
              "    <tr>\n",
              "      <th>3</th>\n",
              "      <td>35726.287742</td>\n",
              "    </tr>\n",
              "    <tr>\n",
              "      <th>4</th>\n",
              "      <td>851.301634</td>\n",
              "    </tr>\n",
              "    <tr>\n",
              "      <th>5</th>\n",
              "      <td>4519.882777</td>\n",
              "    </tr>\n",
              "  </tbody>\n",
              "</table>\n",
              "</div>"
            ],
            "text/plain": [
              "    Coefficient\n",
              "0     15.526639\n",
              "1   -401.658486\n",
              "2    348.694671\n",
              "3  35726.287742\n",
              "4    851.301634\n",
              "5   4519.882777"
            ]
          },
          "metadata": {
            "tags": []
          },
          "execution_count": 114
        }
      ]
    },
    {
      "cell_type": "markdown",
      "metadata": {
        "id": "ZS8fL-Z2eaxw",
        "colab_type": "text"
      },
      "source": [
        "Predicting test set results"
      ]
    },
    {
      "cell_type": "code",
      "metadata": {
        "id": "SYmW_rlLeejA",
        "colab_type": "code",
        "outputId": "8403419c-e239-49f5-9f90-e4d538a4d949",
        "colab": {
          "base_uri": "https://localhost:8080/",
          "height": 52
        }
      },
      "source": [
        "#predict() method is used to make test set predictions\n",
        "y_pred=lr.predict(X_test)\n",
        "#y_pred stores the predicted value of test set target output\n",
        "np.set_printoptions(precision=2) #numpy helps to deiplay predicted value with a precision of 2 decimal points as the actual target output y values\n",
        "y_pred #10 values of test set are predicted \n",
        "#calculated value of y_pred is compared to the actual values of the target output in the test dataset to find accuracy and calculate errors"
      ],
      "execution_count": 115,
      "outputs": [
        {
          "output_type": "execute_result",
          "data": {
            "text/plain": [
              "array([ 91323.42, 125533.99, 125324.5 ,  57801.  , 177454.91, 106980.49,\n",
              "        53174.37,  86571.52, 104724.77, 165575.52])"
            ]
          },
          "metadata": {
            "tags": []
          },
          "execution_count": 115
        }
      ]
    },
    {
      "cell_type": "markdown",
      "metadata": {
        "id": "h2gY0Zvcef0m",
        "colab_type": "text"
      },
      "source": [
        "Calculate errors--also called Cost Function\n",
        "\n",
        "compare value obtained of y_pred by multiple Linear Regression to the actual value of the target output column values in the test dataset to find errors and accuracy of model"
      ]
    },
    {
      "cell_type": "code",
      "metadata": {
        "id": "Fo9zBlNzejyN",
        "colab_type": "code",
        "outputId": "cb80c7a5-4490-44d5-a44b-c36f1c01393e",
        "colab": {
          "base_uri": "https://localhost:8080/",
          "height": 340
        }
      },
      "source": [
        "df = pd.DataFrame({'Actual': y_test.flatten(), 'Predicted': y_pred.flatten()})\n",
        "df.head(10)"
      ],
      "execution_count": 116,
      "outputs": [
        {
          "output_type": "execute_result",
          "data": {
            "text/html": [
              "<div>\n",
              "<style scoped>\n",
              "    .dataframe tbody tr th:only-of-type {\n",
              "        vertical-align: middle;\n",
              "    }\n",
              "\n",
              "    .dataframe tbody tr th {\n",
              "        vertical-align: top;\n",
              "    }\n",
              "\n",
              "    .dataframe thead th {\n",
              "        text-align: right;\n",
              "    }\n",
              "</style>\n",
              "<table border=\"1\" class=\"dataframe\">\n",
              "  <thead>\n",
              "    <tr style=\"text-align: right;\">\n",
              "      <th></th>\n",
              "      <th>Actual</th>\n",
              "      <th>Predicted</th>\n",
              "    </tr>\n",
              "  </thead>\n",
              "  <tbody>\n",
              "    <tr>\n",
              "      <th>0</th>\n",
              "      <td>103282.38</td>\n",
              "      <td>91323.415530</td>\n",
              "    </tr>\n",
              "    <tr>\n",
              "      <th>1</th>\n",
              "      <td>144259.40</td>\n",
              "      <td>125533.987590</td>\n",
              "    </tr>\n",
              "    <tr>\n",
              "      <th>2</th>\n",
              "      <td>146121.95</td>\n",
              "      <td>125324.497087</td>\n",
              "    </tr>\n",
              "    <tr>\n",
              "      <th>3</th>\n",
              "      <td>77798.83</td>\n",
              "      <td>57800.996398</td>\n",
              "    </tr>\n",
              "    <tr>\n",
              "      <th>4</th>\n",
              "      <td>191050.39</td>\n",
              "      <td>177454.913691</td>\n",
              "    </tr>\n",
              "    <tr>\n",
              "      <th>5</th>\n",
              "      <td>105008.31</td>\n",
              "      <td>106980.485282</td>\n",
              "    </tr>\n",
              "    <tr>\n",
              "      <th>6</th>\n",
              "      <td>81229.06</td>\n",
              "      <td>53174.370487</td>\n",
              "    </tr>\n",
              "    <tr>\n",
              "      <th>7</th>\n",
              "      <td>97483.56</td>\n",
              "      <td>86571.519365</td>\n",
              "    </tr>\n",
              "    <tr>\n",
              "      <th>8</th>\n",
              "      <td>110352.25</td>\n",
              "      <td>104724.769864</td>\n",
              "    </tr>\n",
              "    <tr>\n",
              "      <th>9</th>\n",
              "      <td>166187.94</td>\n",
              "      <td>165575.517205</td>\n",
              "    </tr>\n",
              "  </tbody>\n",
              "</table>\n",
              "</div>"
            ],
            "text/plain": [
              "      Actual      Predicted\n",
              "0  103282.38   91323.415530\n",
              "1  144259.40  125533.987590\n",
              "2  146121.95  125324.497087\n",
              "3   77798.83   57800.996398\n",
              "4  191050.39  177454.913691\n",
              "5  105008.31  106980.485282\n",
              "6   81229.06   53174.370487\n",
              "7   97483.56   86571.519365\n",
              "8  110352.25  104724.769864\n",
              "9  166187.94  165575.517205"
            ]
          },
          "metadata": {
            "tags": []
          },
          "execution_count": 116
        }
      ]
    },
    {
      "cell_type": "code",
      "metadata": {
        "id": "pwBUP2ioeoSo",
        "colab_type": "code",
        "outputId": "023bdc03-70f1-41fe-9c9b-44deffe91035",
        "colab": {
          "base_uri": "https://localhost:8080/",
          "height": 70
        }
      },
      "source": [
        "from sklearn.metrics import mean_absolute_error,mean_squared_error,r2_score\n",
        "mse = mean_squared_error(y_test, y_pred)\n",
        "print('Mean squared error:',mse)\n",
        "r_score = r2_score(y_test, y_pred)\n",
        "print('Accuracy:',r_score*100)\n",
        "mae = mean_absolute_error(y_test, y_pred)\n",
        "print('Mean squared error:',mae)\n"
      ],
      "execution_count": 121,
      "outputs": [
        {
          "output_type": "stream",
          "text": [
            "Mean squared error: 245301357.77848524\n",
            "Accuracy: 80.81922196372635\n",
            "Mean squared error: 13225.394806343398\n"
          ],
          "name": "stdout"
        }
      ]
    },
    {
      "cell_type": "markdown",
      "metadata": {
        "id": "h5QY-0AhILsq",
        "colab_type": "text"
      },
      "source": [
        "Since r2_score value is 93% accuracy is really high for our prediction model and hence it can be deployed."
      ]
    },
    {
      "cell_type": "markdown",
      "metadata": {
        "id": "_1EJDIlQezZP",
        "colab_type": "text"
      },
      "source": [
        "Visualising training dataset results"
      ]
    },
    {
      "cell_type": "code",
      "metadata": {
        "id": "eAVwWm_Pe1rk",
        "colab_type": "code",
        "colab": {}
      },
      "source": [
        "import matplotlib.pyplot as plt\n",
        "import seaborn as sns\n",
        "%matplotlib inline"
      ],
      "execution_count": 0,
      "outputs": []
    },
    {
      "cell_type": "code",
      "metadata": {
        "id": "sFyuGs5-HXql",
        "colab_type": "code",
        "outputId": "1467b0c2-2337-4ad2-d89d-c69ce797f96c",
        "colab": {
          "base_uri": "https://localhost:8080/",
          "height": 362
        }
      },
      "source": [
        "# Let's plot a correlation matrix of all independent features variables in our dataset\n",
        "sns.heatmap(dataset.corr(),annot=True)\n"
      ],
      "execution_count": 125,
      "outputs": [
        {
          "output_type": "execute_result",
          "data": {
            "text/plain": [
              "<matplotlib.axes._subplots.AxesSubplot at 0x7f1e3b94afd0>"
            ]
          },
          "metadata": {
            "tags": []
          },
          "execution_count": 125
        },
        {
          "output_type": "display_data",
          "data": {
            "image/png": "[encoded data removed]",
            "text/plain": [
              "<Figure size 432x288 with 2 Axes>"
            ]
          },
          "metadata": {
            "tags": [],
            "needs_background": "light"
          }
        }
      ]
    },
    {
      "cell_type": "markdown",
      "metadata": {
        "id": "Khkq7fM2e0DM",
        "colab_type": "text"
      },
      "source": [
        "Visualising test dataset results"
      ]
    },
    {
      "cell_type": "code",
      "metadata": {
        "id": "l1ho40Gwe2Ro",
        "colab_type": "code",
        "outputId": "73f0f796-0c80-45b5-fc3e-f2593fd7de68",
        "colab": {
          "base_uri": "https://localhost:8080/",
          "height": 586
        }
      },
      "source": [
        "# Visualise the relationship between the features and the response using scatterplots\n",
        "sns.pairplot(dataset, x_vars=['R&D Spend','Administration','Marketing Spend'], y_vars='Profit',size=7, aspect=0.7, kind='scatter')\n",
        "#            dataset            independent features columns     dependent target size     aspect     kind of plot"
      ],
      "execution_count": 124,
      "outputs": [
        {
          "output_type": "stream",
          "text": [
            "/usr/local/lib/python3.6/dist-packages/seaborn/axisgrid.py:2079: UserWarning: The `size` parameter has been renamed to `height`; please update your code.\n",
            "  warnings.warn(msg, UserWarning)\n"
          ],
          "name": "stderr"
        },
        {
          "output_type": "execute_result",
          "data": {
            "text/plain": [
              "<seaborn.axisgrid.PairGrid at 0x7f1e3bb74400>"
            ]
          },
          "metadata": {
            "tags": []
          },
          "execution_count": 124
        },
        {
          "output_type": "display_data",
          "data": {
            "image/png": "[encoded data removed]",
            "text/plain": [
              "<Figure size 1058.4x504 with 3 Axes>"
            ]
          },
          "metadata": {
            "tags": [],
            "needs_background": "light"
          }
        }
      ]
    }
  ]
}