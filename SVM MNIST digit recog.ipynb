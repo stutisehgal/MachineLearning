{
 "cells": [
  {
   "cell_type": "code",
   "execution_count": 1,
   "metadata": {},
   "outputs": [],
   "source": [
    "#importing libraries\n",
    "import numpy as np\n",
    "import pandas as pd\n",
    "import matplotlib.pyplot as plt\n",
    "%matplotlib inline\n",
    "import seaborn as sns"
   ]
  },
  {
   "cell_type": "code",
   "execution_count": 2,
   "metadata": {},
   "outputs": [
    {
     "name": "stdout",
     "output_type": "stream",
     "text": [
      "Shape of training dataset: (60000, 785)\n",
      "Shape of testing dataset: (10000, 785)\n"
     ]
    }
   ],
   "source": [
    "#importing dataset\n",
    "dataset_train=pd.read_csv('mnist_train.csv') # has 10 classes-- 0 to 9 digits and labels\n",
    "dataset_test=pd.read_csv('mnist_test.csv')\n",
    "print(\"Shape of training dataset:\",dataset_train.shape)\n",
    "print(\"Shape of testing dataset:\",dataset_test.shape)"
   ]
  },
  {
   "cell_type": "code",
   "execution_count": 3,
   "metadata": {},
   "outputs": [
    {
     "name": "stdout",
     "output_type": "stream",
     "text": [
      "Description of training dataset:               label      1x1      1x2      1x3      1x4      1x5      1x6  \\\n",
      "count  60000.000000  60000.0  60000.0  60000.0  60000.0  60000.0  60000.0   \n",
      "mean       4.453933      0.0      0.0      0.0      0.0      0.0      0.0   \n",
      "std        2.889270      0.0      0.0      0.0      0.0      0.0      0.0   \n",
      "min        0.000000      0.0      0.0      0.0      0.0      0.0      0.0   \n",
      "25%        2.000000      0.0      0.0      0.0      0.0      0.0      0.0   \n",
      "50%        4.000000      0.0      0.0      0.0      0.0      0.0      0.0   \n",
      "75%        7.000000      0.0      0.0      0.0      0.0      0.0      0.0   \n",
      "max        9.000000      0.0      0.0      0.0      0.0      0.0      0.0   \n",
      "\n",
      "           1x7      1x8      1x9  ...         28x19         28x20  \\\n",
      "count  60000.0  60000.0  60000.0  ...  60000.000000  60000.000000   \n",
      "mean       0.0      0.0      0.0  ...      0.200433      0.088867   \n",
      "std        0.0      0.0      0.0  ...      6.042472      3.956189   \n",
      "min        0.0      0.0      0.0  ...      0.000000      0.000000   \n",
      "25%        0.0      0.0      0.0  ...      0.000000      0.000000   \n",
      "50%        0.0      0.0      0.0  ...      0.000000      0.000000   \n",
      "75%        0.0      0.0      0.0  ...      0.000000      0.000000   \n",
      "max        0.0      0.0      0.0  ...    254.000000    254.000000   \n",
      "\n",
      "              28x21         28x22         28x23       28x24    28x25    28x26  \\\n",
      "count  60000.000000  60000.000000  60000.000000  60000.0000  60000.0  60000.0   \n",
      "mean       0.045633      0.019283      0.015117      0.0020      0.0      0.0   \n",
      "std        2.839845      1.686770      1.678283      0.3466      0.0      0.0   \n",
      "min        0.000000      0.000000      0.000000      0.0000      0.0      0.0   \n",
      "25%        0.000000      0.000000      0.000000      0.0000      0.0      0.0   \n",
      "50%        0.000000      0.000000      0.000000      0.0000      0.0      0.0   \n",
      "75%        0.000000      0.000000      0.000000      0.0000      0.0      0.0   \n",
      "max      253.000000    253.000000    254.000000     62.0000      0.0      0.0   \n",
      "\n",
      "         28x27    28x28  \n",
      "count  60000.0  60000.0  \n",
      "mean       0.0      0.0  \n",
      "std        0.0      0.0  \n",
      "min        0.0      0.0  \n",
      "25%        0.0      0.0  \n",
      "50%        0.0      0.0  \n",
      "75%        0.0      0.0  \n",
      "max        0.0      0.0  \n",
      "\n",
      "[8 rows x 785 columns]\n",
      "Description of test dataset:               label      1x1      1x2      1x3      1x4      1x5      1x6  \\\n",
      "count  10000.000000  10000.0  10000.0  10000.0  10000.0  10000.0  10000.0   \n",
      "mean       4.443400      0.0      0.0      0.0      0.0      0.0      0.0   \n",
      "std        2.895865      0.0      0.0      0.0      0.0      0.0      0.0   \n",
      "min        0.000000      0.0      0.0      0.0      0.0      0.0      0.0   \n",
      "25%        2.000000      0.0      0.0      0.0      0.0      0.0      0.0   \n",
      "50%        4.000000      0.0      0.0      0.0      0.0      0.0      0.0   \n",
      "75%        7.000000      0.0      0.0      0.0      0.0      0.0      0.0   \n",
      "max        9.000000      0.0      0.0      0.0      0.0      0.0      0.0   \n",
      "\n",
      "           1x7      1x8      1x9  ...         28x19         28x20  \\\n",
      "count  10000.0  10000.0  10000.0  ...  10000.000000  10000.000000   \n",
      "mean       0.0      0.0      0.0  ...      0.179300      0.163600   \n",
      "std        0.0      0.0      0.0  ...      5.674149      5.736072   \n",
      "min        0.0      0.0      0.0  ...      0.000000      0.000000   \n",
      "25%        0.0      0.0      0.0  ...      0.000000      0.000000   \n",
      "50%        0.0      0.0      0.0  ...      0.000000      0.000000   \n",
      "75%        0.0      0.0      0.0  ...      0.000000      0.000000   \n",
      "max        0.0      0.0      0.0  ...    253.000000    253.000000   \n",
      "\n",
      "              28x21       28x22    28x23    28x24    28x25    28x26    28x27  \\\n",
      "count  10000.000000  10000.0000  10000.0  10000.0  10000.0  10000.0  10000.0   \n",
      "mean       0.052600      0.0006      0.0      0.0      0.0      0.0      0.0   \n",
      "std        2.420004      0.0600      0.0      0.0      0.0      0.0      0.0   \n",
      "min        0.000000      0.0000      0.0      0.0      0.0      0.0      0.0   \n",
      "25%        0.000000      0.0000      0.0      0.0      0.0      0.0      0.0   \n",
      "50%        0.000000      0.0000      0.0      0.0      0.0      0.0      0.0   \n",
      "75%        0.000000      0.0000      0.0      0.0      0.0      0.0      0.0   \n",
      "max      156.000000      6.0000      0.0      0.0      0.0      0.0      0.0   \n",
      "\n",
      "         28x28  \n",
      "count  10000.0  \n",
      "mean       0.0  \n",
      "std        0.0  \n",
      "min        0.0  \n",
      "25%        0.0  \n",
      "50%        0.0  \n",
      "75%        0.0  \n",
      "max        0.0  \n",
      "\n",
      "[8 rows x 785 columns]\n"
     ]
    }
   ],
   "source": [
    "print(\"Description of training dataset:\",dataset_train.describe())\n",
    "print(\"Description of test dataset:\",dataset_test.describe())"
   ]
  },
  {
   "cell_type": "code",
   "execution_count": 4,
   "metadata": {},
   "outputs": [
    {
     "name": "stdout",
     "output_type": "stream",
     "text": [
      "Null values in training dataset: label    0\n",
      "1x1      0\n",
      "1x2      0\n",
      "1x3      0\n",
      "1x4      0\n",
      "1x5      0\n",
      "1x6      0\n",
      "1x7      0\n",
      "1x8      0\n",
      "1x9      0\n",
      "dtype: int64\n",
      "Null values in test dataset: label    0\n",
      "1x1      0\n",
      "1x2      0\n",
      "1x3      0\n",
      "1x4      0\n",
      "1x5      0\n",
      "1x6      0\n",
      "1x7      0\n",
      "1x8      0\n",
      "1x9      0\n",
      "dtype: int64\n"
     ]
    }
   ],
   "source": [
    "#checking for null and np.nan values\n",
    "print(\"Null values in training dataset:\",dataset_train.isnull().sum().head(10))\n",
    "print(\"Null values in test dataset:\",dataset_test.isnull().sum().head(10))"
   ]
  },
  {
   "cell_type": "code",
   "execution_count": 5,
   "metadata": {},
   "outputs": [
    {
     "name": "stdout",
     "output_type": "stream",
     "text": [
      "[0, 1, 2, 3, 4, 5, 6, 7, 8, 9]\n"
     ]
    }
   ],
   "source": [
    "order = list(np.sort(dataset_train['label'].unique()))\n",
    "print(order)"
   ]
  },
  {
   "cell_type": "code",
   "execution_count": 6,
   "metadata": {},
   "outputs": [
    {
     "data": {
      "text/plain": [
       "1    6742\n",
       "7    6265\n",
       "3    6131\n",
       "2    5958\n",
       "9    5949\n",
       "0    5923\n",
       "6    5918\n",
       "8    5851\n",
       "4    5842\n",
       "5    5421\n",
       "Name: label, dtype: int64"
      ]
     },
     "execution_count": 6,
     "metadata": {},
     "output_type": "execute_result"
    },
    {
     "data": {
      "image/png": "[encoded data removed]",
      "text/plain": [
       "<Figure size 432x288 with 1 Axes>"
      ]
     },
     "metadata": {
      "needs_background": "light"
     },
     "output_type": "display_data"
    }
   ],
   "source": [
    "## Visualizing the number of class ie digits and counts in the datasets\n",
    "plt.plot(figure = (16,10))\n",
    "g = sns.countplot( dataset_train[\"label\"], palette = 'winter')\n",
    "plt.title('Number of digit classes')\n",
    "dataset_train.label.value_counts() \n",
    "#count the number of classes ie digits from 0-9 to idrentify any biasing towards a class by occurence/frequency"
   ]
  },
  {
   "cell_type": "code",
   "execution_count": 7,
   "metadata": {},
   "outputs": [
    {
     "data": {
      "text/plain": [
       "'four = dataset_train.iloc[3, 1:] #1st column is the label column at index 0\\nprint(four.shape)\\nfour = four.values.reshape(28,28)\\n# opening image in bigger size than allowed on canvas by default on notebook\\nfig=plt.figure(figsize=(14,12)) # by adjusting fgsize dimensions, open image in bigger size\\nax=fig.add_subplot(111) # by adjusting size of width,height and color channel\\nax.imshow(four)\\nplt.imshow(four, cmap=\\'gray\\') # to remove color channel from input image\\nplt.title(\"Digit 4\")\\nfour'"
      ]
     },
     "execution_count": 7,
     "metadata": {},
     "output_type": "execute_result"
    }
   ],
   "source": [
    "# Plotting some samples as well as converting into matrix\n",
    "'''four = dataset_train.iloc[3, 1:] #1st column is the label column at index 0\n",
    "print(four.shape)\n",
    "four = four.values.reshape(28,28)\n",
    "# opening image in bigger size than allowed on canvas by default on notebook\n",
    "fig=plt.figure(figsize=(14,12)) # by adjusting fgsize dimensions, open image in bigger size\n",
    "ax=fig.add_subplot(111) # by adjusting size of width,height and color channel\n",
    "ax.imshow(four)\n",
    "plt.imshow(four, cmap='gray') # to remove color channel from input image\n",
    "plt.title(\"Digit 4\")\n",
    "four'''"
   ]
  },
  {
   "cell_type": "code",
   "execution_count": 8,
   "metadata": {},
   "outputs": [
    {
     "data": {
      "text/plain": [
       "1x1      0.0\n",
       "1x2      0.0\n",
       "1x3      0.0\n",
       "1x4      0.0\n",
       "1x5      0.0\n",
       "        ... \n",
       "28x24    0.0\n",
       "28x25    0.0\n",
       "28x26    0.0\n",
       "28x27    0.0\n",
       "28x28    0.0\n",
       "Length: 784, dtype: float64"
      ]
     },
     "execution_count": 8,
     "metadata": {},
     "output_type": "execute_result"
    }
   ],
   "source": [
    "# average feature values\n",
    "round(dataset_train.drop('label', axis=1).mean(), 2) \n",
    "#drop label column of dataset while calculating mean of all other columns rounded off upto 2nd decimal place"
   ]
  },
  {
   "cell_type": "code",
   "execution_count": 9,
   "metadata": {},
   "outputs": [
    {
     "name": "stdout",
     "output_type": "stream",
     "text": [
      "(60000, 784)\n",
      "(60000,)\n"
     ]
    }
   ],
   "source": [
    "# Separating the X and Y variable\n",
    "\n",
    "y_dataset_train = dataset_train['label']\n",
    "# Dropping the variable 'label' from X variable \n",
    "X_dataset_train = dataset_train.drop(columns = 'label') #drop  labels column at index 0\n",
    "# Printing the size of data \n",
    "print(X_dataset_train.shape)\n",
    "print(y_dataset_train.shape)"
   ]
  },
  {
   "cell_type": "code",
   "execution_count": 10,
   "metadata": {},
   "outputs": [
    {
     "name": "stdout",
     "output_type": "stream",
     "text": [
      "X: (60000, 784)\n",
      "Test dataset: (10000, 785)\n"
     ]
    }
   ],
   "source": [
    "# Normalization-- all values lie between 0 and 255 so by dividing all values by 255, they will lie between 0 and 1\n",
    "X_dataset_train = X_dataset_train/255.0\n",
    "dataset_test = dataset_test/255.0\n",
    "print(\"X:\",X_dataset_train.shape)\n",
    "print(\"Test dataset:\",dataset_test.shape)"
   ]
  },
  {
   "cell_type": "code",
   "execution_count": 11,
   "metadata": {},
   "outputs": [],
   "source": [
    "from sklearn.preprocessing import MinMaxScaler\n",
    "#feature scaling independent feature variable X\n",
    "mm_X = MinMaxScaler()\n",
    "X_dataset_train = mm_X.fit_transform(X_dataset_train)\n",
    "\n",
    "#splitting dataset into training set and test set\n",
    "from sklearn.model_selection import train_test_split\n",
    "# train test split\n",
    "X_train, X_test, y_train, y_test = train_test_split(X_dataset_train, y_dataset_train, test_size = 0.2,random_state = 0)"
   ]
  },
  {
   "cell_type": "code",
   "execution_count": 12,
   "metadata": {},
   "outputs": [],
   "source": [
    "# Applying SVM model to training dataset\n",
    "from sklearn.svm import SVC\n",
    "classifier=SVC(kernel='rbf') #hyperparameter tuning c and gamma values\n",
    "#linear kernel only gives 91.8% accuracy\n",
    "#polynomial kernel with degree=3 gives 86% accuracy\n",
    "#sigmoid kernel gives 91.1% accuracy\n",
    "#rbf kernel gives 97.816% accuracy so i used rbf kernel\n",
    "model = classifier.fit(X_train,y_train)"
   ]
  },
  {
   "cell_type": "code",
   "execution_count": 20,
   "metadata": {},
   "outputs": [
    {
     "name": "stdout",
     "output_type": "stream",
     "text": [
      "Predicted output values: [3 6 6 ... 5 1 6]\n"
     ]
    }
   ],
   "source": [
    "#Predicting results of training dataset\n",
    "y_pred=classifier.predict(X_test)\n",
    "print(\"Predicted output values:\",y_pred)"
   ]
  },
  {
   "cell_type": "code",
   "execution_count": 21,
   "metadata": {},
   "outputs": [
    {
     "data": {
      "text/plain": [
       "array([3, 6, 6, ..., 5, 1, 6], dtype=int64)"
      ]
     },
     "execution_count": 21,
     "metadata": {},
     "output_type": "execute_result"
    }
   ],
   "source": [
    "y_pred.flatten()"
   ]
  },
  {
   "cell_type": "code",
   "execution_count": 22,
   "metadata": {},
   "outputs": [
    {
     "data": {
      "text/plain": [
       "(12000,)"
      ]
     },
     "execution_count": 22,
     "metadata": {},
     "output_type": "execute_result"
    }
   ],
   "source": [
    "y_pred.shape"
   ]
  },
  {
   "cell_type": "code",
   "execution_count": 23,
   "metadata": {},
   "outputs": [
    {
     "name": "stdout",
     "output_type": "stream",
     "text": [
      "Accuracy: 97.81666666666666 \n",
      "\n",
      "[[1195    0    0    0    0    2    6    0    2    0]\n",
      " [   0 1372    2    1    2    0    1    0    0    1]\n",
      " [   0    1 1142    5    4    1    1    6    5    1]\n",
      " [   0    0    9 1169    0   14    0    4   12    0]\n",
      " [   0    2    2    0 1132    0    3    4    1    9]\n",
      " [   5    0    3   12    4 1035    8    0    5    3]\n",
      " [   2    2    3    0    3    5 1173    0    2    0]\n",
      " [   0    2    8    1    5    0    1 1199    1   11]\n",
      " [   1    5    5    2    2    8    4    0 1161    3]\n",
      " [   1    0    0    6   17    5    0   10    6 1160]]\n",
      "Mean squared error: 0.3388333333333333\n",
      "Mean absolute error: 0.0755\n",
      "Accuracy: 95.98114200470734\n"
     ]
    }
   ],
   "source": [
    "# confusion matrix and accuracy\n",
    "\n",
    "from sklearn import metrics\n",
    "from sklearn.metrics import confusion_matrix\n",
    "\n",
    "accuracy=metrics.accuracy_score(y_true=y_test, y_pred=y_pred)*100\n",
    "print(\"Accuracy:\", accuracy, \"\\n\")\n",
    "\n",
    "# cm\n",
    "print(metrics.confusion_matrix(y_true=y_test, y_pred=y_pred))\n",
    "\n",
    "# CALCULTING ERROR AND ACCURACY OF PREDICTION MODEL\n",
    "from sklearn.metrics import mean_absolute_error,mean_squared_error,r2_score\n",
    "mse = mean_squared_error(y_test, y_pred)\n",
    "print('Mean squared error:',mse)\n",
    "mae = mean_absolute_error(y_test, y_pred)\n",
    "print('Mean absolute error:',mae)\n",
    "r_score = r2_score(y_test, y_pred)\n",
    "print('Accuracy:',r_score*100)"
   ]
  },
  {
   "cell_type": "code",
   "execution_count": null,
   "metadata": {},
   "outputs": [],
   "source": [
    "import joblib\n",
    "joblib.dump(model,\"model.pkl\")"
   ]
  }
 ],
 "metadata": {
  "kernelspec": {
   "display_name": "Python 3",
   "language": "python",
   "name": "python3"
  },
  "language_info": {
   "codemirror_mode": {
    "name": "ipython",
    "version": 3
   },
   "file_extension": ".py",
   "mimetype": "text/x-python",
   "name": "python",
   "nbconvert_exporter": "python",
   "pygments_lexer": "ipython3",
   "version": "3.7.6"
  }
 },
 "nbformat": 4,
 "nbformat_minor": 4
}
