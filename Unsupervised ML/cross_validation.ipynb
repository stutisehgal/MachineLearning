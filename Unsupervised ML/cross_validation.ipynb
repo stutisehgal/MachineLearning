{
 "cells": [
  {
   "cell_type": "markdown",
   "metadata": {},
   "source": [
    "**Cross-validation** is a resampling procedure used to evaluate machine learning models on a limited data sample.\n",
    "\n",
    "The procedure has a single parameter called k that refers to the number of groups that a given data sample is to be split into. As such, the procedure is often called k-fold cross-validation.\n",
    "\n",
    "When a specific value for k is chosen, it may be used in place of k in the reference to the model, such as k=10 becoming 10-fold cross-validation."
   ]
  },
  {
   "cell_type": "markdown",
   "metadata": {},
   "source": [
    "<img src='images/K-fold.jpg' width='60%' height='60%'/>"
   ]
  },
  {
   "cell_type": "markdown",
   "metadata": {},
   "source": [
    "Cross Validation is used to assess the predictive performance of the models and and to judge how they perform outside the sample to a new data set also known as test data"
   ]
  },
  {
   "cell_type": "code",
   "execution_count": 2,
   "metadata": {},
   "outputs": [
    {
     "name": "stdout",
     "output_type": "stream",
     "text": [
      "(150, 4) (150,)\n"
     ]
    }
   ],
   "source": [
    "import numpy as np\n",
    "from sklearn.model_selection import train_test_split\n",
    "from sklearn import datasets\n",
    "from sklearn import svm\n",
    "\n",
    "iris = datasets.load_iris()\n",
    "print(iris.data.shape, iris.target.shape)\n"
   ]
  },
  {
   "cell_type": "code",
   "execution_count": 3,
   "metadata": {},
   "outputs": [
    {
     "name": "stdout",
     "output_type": "stream",
     "text": [
      "(90, 4) (90,)\n",
      "(60, 4) (60,)\n"
     ]
    },
    {
     "data": {
      "text/plain": [
       "0.9666666666666667"
      ]
     },
     "execution_count": 3,
     "metadata": {},
     "output_type": "execute_result"
    }
   ],
   "source": [
    "X_train, X_test, y_train, y_test = train_test_split(iris.data, iris.target, \n",
    "                                                    test_size=0.4, \n",
    "                                                    random_state=0)\n",
    "\n",
    "print(X_train.shape, y_train.shape)\n",
    "\n",
    "print(X_test.shape, y_test.shape)\n",
    "\n",
    "\n",
    "clf = svm.SVC(kernel='linear', C=1).fit(X_train, y_train)\n",
    "clf.score(X_test, y_test)  "
   ]
  },
  {
   "cell_type": "code",
   "execution_count": 4,
   "metadata": {},
   "outputs": [
    {
     "data": {
      "text/plain": [
       "array([0.96666667, 1.        , 0.96666667, 0.96666667, 1.        ])"
      ]
     },
     "execution_count": 4,
     "metadata": {},
     "output_type": "execute_result"
    }
   ],
   "source": [
    "from sklearn.model_selection import cross_val_score\n",
    "clf = svm.SVC(kernel='linear', C=1)\n",
    "scores = cross_val_score(clf, iris.data, iris.target, cv=5)\n",
    "scores       "
   ]
  },
  {
   "cell_type": "code",
   "execution_count": 5,
   "metadata": {},
   "outputs": [
    {
     "name": "stdout",
     "output_type": "stream",
     "text": [
      "[0.96666667 0.96666667 0.96666667 1.         1.        ]\n"
     ]
    },
    {
     "data": {
      "text/plain": [
       "98.00000000000001"
      ]
     },
     "execution_count": 5,
     "metadata": {},
     "output_type": "execute_result"
    }
   ],
   "source": [
    "from sklearn.model_selection import KFold\n",
    "kf=KFold(n_splits=5,shuffle=True,random_state=10)\n",
    "clf = svm.SVC(kernel='linear', C=1)\n",
    "scores = cross_val_score(clf, iris.data, iris.target, cv=kf,scoring='accuracy')\n",
    "print(scores)\n",
    "scores.mean()*100"
   ]
  },
  {
   "cell_type": "markdown",
   "metadata": {},
   "source": [
    "A **Pipeline** makes it easier to compose estimators, providing this behavior under cross-validation:"
   ]
  },
  {
   "cell_type": "code",
   "execution_count": 6,
   "metadata": {},
   "outputs": [
    {
     "name": "stdout",
     "output_type": "stream",
     "text": [
      "[0.91666667 0.91666667 0.94444444 1.         0.94444444]\n"
     ]
    },
    {
     "data": {
      "text/plain": [
       "0.9444444444444444"
      ]
     },
     "execution_count": 6,
     "metadata": {},
     "output_type": "execute_result"
    }
   ],
   "source": [
    "from sklearn.pipeline import make_pipeline\n",
    "from sklearn.model_selection import ShuffleSplit\n",
    "from sklearn import preprocessing\n",
    "\n",
    "X_train, X_test, y_train, y_test = train_test_split(iris.data, iris.target, \n",
    "                                                    test_size=0.2, random_state=0)\n",
    "\n",
    "cv = ShuffleSplit(n_splits=5, test_size=0.3, random_state=0)\n",
    "\n",
    "\n",
    "clf = make_pipeline(preprocessing.StandardScaler(), svm.SVC(C=1))\n",
    "rs=cross_val_score(clf, X_train,y_train, cv=cv)\n",
    "print(rs)\n",
    "rs.mean()"
   ]
  },
  {
   "cell_type": "code",
   "execution_count": 7,
   "metadata": {},
   "outputs": [],
   "source": [
    "\n",
    "std=preprocessing.StandardScaler()"
   ]
  },
  {
   "cell_type": "code",
   "execution_count": 8,
   "metadata": {},
   "outputs": [],
   "source": [
    "train_std=std.fit_transform(X_train)\n",
    "test_std=std.transform(X_test)"
   ]
  },
  {
   "cell_type": "code",
   "execution_count": 9,
   "metadata": {},
   "outputs": [
    {
     "data": {
      "text/plain": [
       "SVC(C=1, cache_size=200, class_weight=None, coef0=0.0,\n",
       "  decision_function_shape='ovr', degree=3, gamma='auto', kernel='rbf',\n",
       "  max_iter=-1, probability=False, random_state=None, shrinking=True,\n",
       "  tol=0.001, verbose=False)"
      ]
     },
     "execution_count": 9,
     "metadata": {},
     "output_type": "execute_result"
    }
   ],
   "source": [
    "clf = svm.SVC(C=1)\n",
    "clf.fit(train_std,y_train)"
   ]
  },
  {
   "cell_type": "code",
   "execution_count": 10,
   "metadata": {},
   "outputs": [
    {
     "data": {
      "text/plain": [
       "1.0"
      ]
     },
     "execution_count": 10,
     "metadata": {},
     "output_type": "execute_result"
    }
   ],
   "source": [
    "clf.score(test_std,y_test)"
   ]
  },
  {
   "cell_type": "code",
   "execution_count": 15,
   "metadata": {},
   "outputs": [],
   "source": [
    "from sklearn.neighbors import KNeighborsClassifier\n",
    "\n",
    "from sklearn.model_selection import GridSearchCV\n",
    "grid = GridSearchCV(KNeighborsClassifier(),{'n_neighbors':[2,3,4,5,6,7,8,9,10]},\n",
    "                    cv=5,\n",
    "                    scoring='accuracy')"
   ]
  },
  {
   "cell_type": "code",
   "execution_count": 16,
   "metadata": {},
   "outputs": [
    {
     "data": {
      "text/plain": [
       "GridSearchCV(cv=5, error_score='raise',\n",
       "       estimator=KNeighborsClassifier(algorithm='auto', leaf_size=30, metric='minkowski',\n",
       "           metric_params=None, n_jobs=1, n_neighbors=5, p=2,\n",
       "           weights='uniform'),\n",
       "       fit_params=None, iid=True, n_jobs=1,\n",
       "       param_grid={'n_neighbors': [2, 3, 4, 5, 6, 7, 8, 9, 10]},\n",
       "       pre_dispatch='2*n_jobs', refit=True, return_train_score='warn',\n",
       "       scoring='accuracy', verbose=0)"
      ]
     },
     "execution_count": 16,
     "metadata": {},
     "output_type": "execute_result"
    }
   ],
   "source": [
    "grid.fit(X_train,y_train)"
   ]
  },
  {
   "cell_type": "code",
   "execution_count": 17,
   "metadata": {},
   "outputs": [
    {
     "data": {
      "text/plain": [
       "0.9583333333333334"
      ]
     },
     "execution_count": 17,
     "metadata": {},
     "output_type": "execute_result"
    }
   ],
   "source": [
    "grid.best_score_"
   ]
  },
  {
   "cell_type": "code",
   "execution_count": 18,
   "metadata": {},
   "outputs": [
    {
     "data": {
      "text/plain": [
       "{'n_neighbors': 8}"
      ]
     },
     "execution_count": 18,
     "metadata": {},
     "output_type": "execute_result"
    }
   ],
   "source": [
    "grid.best_params_"
   ]
  },
  {
   "cell_type": "code",
   "execution_count": 25,
   "metadata": {},
   "outputs": [
    {
     "name": "stderr",
     "output_type": "stream",
     "text": [
      "C:\\Anaconda3\\lib\\site-packages\\sklearn\\utils\\deprecation.py:122: FutureWarning: You are accessing a training score ('mean_train_score'), which will not be available by default any more in 0.21. If you need training scores, please set return_train_score=True\n",
      "  warnings.warn(*warn_args, **warn_kwargs)\n",
      "C:\\Anaconda3\\lib\\site-packages\\sklearn\\utils\\deprecation.py:122: FutureWarning: You are accessing a training score ('split0_train_score'), which will not be available by default any more in 0.21. If you need training scores, please set return_train_score=True\n",
      "  warnings.warn(*warn_args, **warn_kwargs)\n",
      "C:\\Anaconda3\\lib\\site-packages\\sklearn\\utils\\deprecation.py:122: FutureWarning: You are accessing a training score ('split1_train_score'), which will not be available by default any more in 0.21. If you need training scores, please set return_train_score=True\n",
      "  warnings.warn(*warn_args, **warn_kwargs)\n",
      "C:\\Anaconda3\\lib\\site-packages\\sklearn\\utils\\deprecation.py:122: FutureWarning: You are accessing a training score ('split2_train_score'), which will not be available by default any more in 0.21. If you need training scores, please set return_train_score=True\n",
      "  warnings.warn(*warn_args, **warn_kwargs)\n",
      "C:\\Anaconda3\\lib\\site-packages\\sklearn\\utils\\deprecation.py:122: FutureWarning: You are accessing a training score ('split3_train_score'), which will not be available by default any more in 0.21. If you need training scores, please set return_train_score=True\n",
      "  warnings.warn(*warn_args, **warn_kwargs)\n",
      "C:\\Anaconda3\\lib\\site-packages\\sklearn\\utils\\deprecation.py:122: FutureWarning: You are accessing a training score ('split4_train_score'), which will not be available by default any more in 0.21. If you need training scores, please set return_train_score=True\n",
      "  warnings.warn(*warn_args, **warn_kwargs)\n",
      "C:\\Anaconda3\\lib\\site-packages\\sklearn\\utils\\deprecation.py:122: FutureWarning: You are accessing a training score ('std_train_score'), which will not be available by default any more in 0.21. If you need training scores, please set return_train_score=True\n",
      "  warnings.warn(*warn_args, **warn_kwargs)\n"
     ]
    },
    {
     "data": {
      "text/html": [
       "<div>\n",
       "<style scoped>\n",
       "    .dataframe tbody tr th:only-of-type {\n",
       "        vertical-align: middle;\n",
       "    }\n",
       "\n",
       "    .dataframe tbody tr th {\n",
       "        vertical-align: top;\n",
       "    }\n",
       "\n",
       "    .dataframe thead th {\n",
       "        text-align: right;\n",
       "    }\n",
       "</style>\n",
       "<table border=\"1\" class=\"dataframe\">\n",
       "  <thead>\n",
       "    <tr style=\"text-align: right;\">\n",
       "      <th></th>\n",
       "      <th>mean_fit_time</th>\n",
       "      <th>mean_score_time</th>\n",
       "      <th>mean_test_score</th>\n",
       "      <th>mean_train_score</th>\n",
       "      <th>param_n_neighbors</th>\n",
       "      <th>params</th>\n",
       "      <th>rank_test_score</th>\n",
       "      <th>split0_test_score</th>\n",
       "      <th>split0_train_score</th>\n",
       "      <th>split1_test_score</th>\n",
       "      <th>...</th>\n",
       "      <th>split2_test_score</th>\n",
       "      <th>split2_train_score</th>\n",
       "      <th>split3_test_score</th>\n",
       "      <th>split3_train_score</th>\n",
       "      <th>split4_test_score</th>\n",
       "      <th>split4_train_score</th>\n",
       "      <th>std_fit_time</th>\n",
       "      <th>std_score_time</th>\n",
       "      <th>std_test_score</th>\n",
       "      <th>std_train_score</th>\n",
       "    </tr>\n",
       "  </thead>\n",
       "  <tbody>\n",
       "    <tr>\n",
       "      <th>0</th>\n",
       "      <td>0.001005</td>\n",
       "      <td>0.001402</td>\n",
       "      <td>0.925000</td>\n",
       "      <td>0.972956</td>\n",
       "      <td>2</td>\n",
       "      <td>{'n_neighbors': 2}</td>\n",
       "      <td>7</td>\n",
       "      <td>0.92</td>\n",
       "      <td>0.968421</td>\n",
       "      <td>0.84</td>\n",
       "      <td>...</td>\n",
       "      <td>1.000000</td>\n",
       "      <td>0.968750</td>\n",
       "      <td>0.916667</td>\n",
       "      <td>0.968750</td>\n",
       "      <td>0.954545</td>\n",
       "      <td>0.969388</td>\n",
       "      <td>0.000633</td>\n",
       "      <td>0.000802</td>\n",
       "      <td>0.053003</td>\n",
       "      <td>0.008265</td>\n",
       "    </tr>\n",
       "    <tr>\n",
       "      <th>1</th>\n",
       "      <td>0.000000</td>\n",
       "      <td>0.001384</td>\n",
       "      <td>0.925000</td>\n",
       "      <td>0.954248</td>\n",
       "      <td>3</td>\n",
       "      <td>{'n_neighbors': 3}</td>\n",
       "      <td>7</td>\n",
       "      <td>0.92</td>\n",
       "      <td>0.968421</td>\n",
       "      <td>0.84</td>\n",
       "      <td>...</td>\n",
       "      <td>1.000000</td>\n",
       "      <td>0.927083</td>\n",
       "      <td>0.958333</td>\n",
       "      <td>0.958333</td>\n",
       "      <td>0.909091</td>\n",
       "      <td>0.948980</td>\n",
       "      <td>0.000000</td>\n",
       "      <td>0.000774</td>\n",
       "      <td>0.053889</td>\n",
       "      <td>0.015389</td>\n",
       "    </tr>\n",
       "    <tr>\n",
       "      <th>2</th>\n",
       "      <td>0.000390</td>\n",
       "      <td>0.000399</td>\n",
       "      <td>0.925000</td>\n",
       "      <td>0.960520</td>\n",
       "      <td>4</td>\n",
       "      <td>{'n_neighbors': 4}</td>\n",
       "      <td>7</td>\n",
       "      <td>0.92</td>\n",
       "      <td>0.978947</td>\n",
       "      <td>0.84</td>\n",
       "      <td>...</td>\n",
       "      <td>1.000000</td>\n",
       "      <td>0.937500</td>\n",
       "      <td>0.958333</td>\n",
       "      <td>0.968750</td>\n",
       "      <td>0.909091</td>\n",
       "      <td>0.948980</td>\n",
       "      <td>0.000478</td>\n",
       "      <td>0.000488</td>\n",
       "      <td>0.053889</td>\n",
       "      <td>0.015052</td>\n",
       "    </tr>\n",
       "    <tr>\n",
       "      <th>3</th>\n",
       "      <td>0.000200</td>\n",
       "      <td>0.000399</td>\n",
       "      <td>0.933333</td>\n",
       "      <td>0.960498</td>\n",
       "      <td>5</td>\n",
       "      <td>{'n_neighbors': 5}</td>\n",
       "      <td>6</td>\n",
       "      <td>0.96</td>\n",
       "      <td>0.968421</td>\n",
       "      <td>0.88</td>\n",
       "      <td>...</td>\n",
       "      <td>0.958333</td>\n",
       "      <td>0.958333</td>\n",
       "      <td>0.958333</td>\n",
       "      <td>0.958333</td>\n",
       "      <td>0.909091</td>\n",
       "      <td>0.948980</td>\n",
       "      <td>0.000400</td>\n",
       "      <td>0.000489</td>\n",
       "      <td>0.033143</td>\n",
       "      <td>0.007316</td>\n",
       "    </tr>\n",
       "    <tr>\n",
       "      <th>4</th>\n",
       "      <td>0.000201</td>\n",
       "      <td>0.000399</td>\n",
       "      <td>0.941667</td>\n",
       "      <td>0.960433</td>\n",
       "      <td>6</td>\n",
       "      <td>{'n_neighbors': 6}</td>\n",
       "      <td>5</td>\n",
       "      <td>0.96</td>\n",
       "      <td>0.978947</td>\n",
       "      <td>0.88</td>\n",
       "      <td>...</td>\n",
       "      <td>1.000000</td>\n",
       "      <td>0.947917</td>\n",
       "      <td>0.916667</td>\n",
       "      <td>0.968750</td>\n",
       "      <td>0.954545</td>\n",
       "      <td>0.959184</td>\n",
       "      <td>0.000402</td>\n",
       "      <td>0.000488</td>\n",
       "      <td>0.041210</td>\n",
       "      <td>0.012173</td>\n",
       "    </tr>\n",
       "    <tr>\n",
       "      <th>5</th>\n",
       "      <td>0.000607</td>\n",
       "      <td>0.000607</td>\n",
       "      <td>0.950000</td>\n",
       "      <td>0.962474</td>\n",
       "      <td>7</td>\n",
       "      <td>{'n_neighbors': 7}</td>\n",
       "      <td>3</td>\n",
       "      <td>0.96</td>\n",
       "      <td>0.957895</td>\n",
       "      <td>0.96</td>\n",
       "      <td>...</td>\n",
       "      <td>1.000000</td>\n",
       "      <td>0.947917</td>\n",
       "      <td>0.916667</td>\n",
       "      <td>0.968750</td>\n",
       "      <td>0.909091</td>\n",
       "      <td>0.969388</td>\n",
       "      <td>0.000496</td>\n",
       "      <td>0.000814</td>\n",
       "      <td>0.032722</td>\n",
       "      <td>0.008431</td>\n",
       "    </tr>\n",
       "    <tr>\n",
       "      <th>6</th>\n",
       "      <td>0.000399</td>\n",
       "      <td>0.000399</td>\n",
       "      <td>0.958333</td>\n",
       "      <td>0.966685</td>\n",
       "      <td>8</td>\n",
       "      <td>{'n_neighbors': 8}</td>\n",
       "      <td>1</td>\n",
       "      <td>0.96</td>\n",
       "      <td>0.968421</td>\n",
       "      <td>0.96</td>\n",
       "      <td>...</td>\n",
       "      <td>1.000000</td>\n",
       "      <td>0.947917</td>\n",
       "      <td>0.916667</td>\n",
       "      <td>0.968750</td>\n",
       "      <td>0.954545</td>\n",
       "      <td>0.969388</td>\n",
       "      <td>0.000488</td>\n",
       "      <td>0.000489</td>\n",
       "      <td>0.026424</td>\n",
       "      <td>0.010171</td>\n",
       "    </tr>\n",
       "    <tr>\n",
       "      <th>7</th>\n",
       "      <td>0.000198</td>\n",
       "      <td>0.000597</td>\n",
       "      <td>0.958333</td>\n",
       "      <td>0.964557</td>\n",
       "      <td>9</td>\n",
       "      <td>{'n_neighbors': 9}</td>\n",
       "      <td>1</td>\n",
       "      <td>0.96</td>\n",
       "      <td>0.968421</td>\n",
       "      <td>0.96</td>\n",
       "      <td>...</td>\n",
       "      <td>1.000000</td>\n",
       "      <td>0.958333</td>\n",
       "      <td>0.958333</td>\n",
       "      <td>0.968750</td>\n",
       "      <td>0.909091</td>\n",
       "      <td>0.969388</td>\n",
       "      <td>0.000396</td>\n",
       "      <td>0.000487</td>\n",
       "      <td>0.028159</td>\n",
       "      <td>0.005272</td>\n",
       "    </tr>\n",
       "    <tr>\n",
       "      <th>8</th>\n",
       "      <td>0.000399</td>\n",
       "      <td>0.000398</td>\n",
       "      <td>0.950000</td>\n",
       "      <td>0.962474</td>\n",
       "      <td>10</td>\n",
       "      <td>{'n_neighbors': 10}</td>\n",
       "      <td>3</td>\n",
       "      <td>0.96</td>\n",
       "      <td>0.968421</td>\n",
       "      <td>0.92</td>\n",
       "      <td>...</td>\n",
       "      <td>1.000000</td>\n",
       "      <td>0.947917</td>\n",
       "      <td>0.916667</td>\n",
       "      <td>0.968750</td>\n",
       "      <td>0.954545</td>\n",
       "      <td>0.969388</td>\n",
       "      <td>0.000489</td>\n",
       "      <td>0.000488</td>\n",
       "      <td>0.030567</td>\n",
       "      <td>0.008431</td>\n",
       "    </tr>\n",
       "  </tbody>\n",
       "</table>\n",
       "<p>9 rows × 21 columns</p>\n",
       "</div>"
      ],
      "text/plain": [
       "   mean_fit_time  mean_score_time  mean_test_score  mean_train_score  \\\n",
       "0       0.001005         0.001402         0.925000          0.972956   \n",
       "1       0.000000         0.001384         0.925000          0.954248   \n",
       "2       0.000390         0.000399         0.925000          0.960520   \n",
       "3       0.000200         0.000399         0.933333          0.960498   \n",
       "4       0.000201         0.000399         0.941667          0.960433   \n",
       "5       0.000607         0.000607         0.950000          0.962474   \n",
       "6       0.000399         0.000399         0.958333          0.966685   \n",
       "7       0.000198         0.000597         0.958333          0.964557   \n",
       "8       0.000399         0.000398         0.950000          0.962474   \n",
       "\n",
       "  param_n_neighbors               params  rank_test_score  split0_test_score  \\\n",
       "0                 2   {'n_neighbors': 2}                7               0.92   \n",
       "1                 3   {'n_neighbors': 3}                7               0.92   \n",
       "2                 4   {'n_neighbors': 4}                7               0.92   \n",
       "3                 5   {'n_neighbors': 5}                6               0.96   \n",
       "4                 6   {'n_neighbors': 6}                5               0.96   \n",
       "5                 7   {'n_neighbors': 7}                3               0.96   \n",
       "6                 8   {'n_neighbors': 8}                1               0.96   \n",
       "7                 9   {'n_neighbors': 9}                1               0.96   \n",
       "8                10  {'n_neighbors': 10}                3               0.96   \n",
       "\n",
       "   split0_train_score  split1_test_score       ...         split2_test_score  \\\n",
       "0            0.968421               0.84       ...                  1.000000   \n",
       "1            0.968421               0.84       ...                  1.000000   \n",
       "2            0.978947               0.84       ...                  1.000000   \n",
       "3            0.968421               0.88       ...                  0.958333   \n",
       "4            0.978947               0.88       ...                  1.000000   \n",
       "5            0.957895               0.96       ...                  1.000000   \n",
       "6            0.968421               0.96       ...                  1.000000   \n",
       "7            0.968421               0.96       ...                  1.000000   \n",
       "8            0.968421               0.92       ...                  1.000000   \n",
       "\n",
       "   split2_train_score  split3_test_score  split3_train_score  \\\n",
       "0            0.968750           0.916667            0.968750   \n",
       "1            0.927083           0.958333            0.958333   \n",
       "2            0.937500           0.958333            0.968750   \n",
       "3            0.958333           0.958333            0.958333   \n",
       "4            0.947917           0.916667            0.968750   \n",
       "5            0.947917           0.916667            0.968750   \n",
       "6            0.947917           0.916667            0.968750   \n",
       "7            0.958333           0.958333            0.968750   \n",
       "8            0.947917           0.916667            0.968750   \n",
       "\n",
       "   split4_test_score  split4_train_score  std_fit_time  std_score_time  \\\n",
       "0           0.954545            0.969388      0.000633        0.000802   \n",
       "1           0.909091            0.948980      0.000000        0.000774   \n",
       "2           0.909091            0.948980      0.000478        0.000488   \n",
       "3           0.909091            0.948980      0.000400        0.000489   \n",
       "4           0.954545            0.959184      0.000402        0.000488   \n",
       "5           0.909091            0.969388      0.000496        0.000814   \n",
       "6           0.954545            0.969388      0.000488        0.000489   \n",
       "7           0.909091            0.969388      0.000396        0.000487   \n",
       "8           0.954545            0.969388      0.000489        0.000488   \n",
       "\n",
       "   std_test_score  std_train_score  \n",
       "0        0.053003         0.008265  \n",
       "1        0.053889         0.015389  \n",
       "2        0.053889         0.015052  \n",
       "3        0.033143         0.007316  \n",
       "4        0.041210         0.012173  \n",
       "5        0.032722         0.008431  \n",
       "6        0.026424         0.010171  \n",
       "7        0.028159         0.005272  \n",
       "8        0.030567         0.008431  \n",
       "\n",
       "[9 rows x 21 columns]"
      ]
     },
     "execution_count": 25,
     "metadata": {},
     "output_type": "execute_result"
    }
   ],
   "source": [
    "import pandas as pd\n",
    "pd.DataFrame(grid.cv_results_)"
   ]
  },
  {
   "cell_type": "code",
   "execution_count": 22,
   "metadata": {},
   "outputs": [
    {
     "name": "stderr",
     "output_type": "stream",
     "text": [
      "C:\\Anaconda3\\lib\\site-packages\\sklearn\\utils\\deprecation.py:122: FutureWarning: You are accessing a training score ('mean_train_score'), which will not be available by default any more in 0.21. If you need training scores, please set return_train_score=True\n",
      "  warnings.warn(*warn_args, **warn_kwargs)\n",
      "C:\\Anaconda3\\lib\\site-packages\\sklearn\\utils\\deprecation.py:122: FutureWarning: You are accessing a training score ('split0_train_score'), which will not be available by default any more in 0.21. If you need training scores, please set return_train_score=True\n",
      "  warnings.warn(*warn_args, **warn_kwargs)\n",
      "C:\\Anaconda3\\lib\\site-packages\\sklearn\\utils\\deprecation.py:122: FutureWarning: You are accessing a training score ('split1_train_score'), which will not be available by default any more in 0.21. If you need training scores, please set return_train_score=True\n",
      "  warnings.warn(*warn_args, **warn_kwargs)\n",
      "C:\\Anaconda3\\lib\\site-packages\\sklearn\\utils\\deprecation.py:122: FutureWarning: You are accessing a training score ('split2_train_score'), which will not be available by default any more in 0.21. If you need training scores, please set return_train_score=True\n",
      "  warnings.warn(*warn_args, **warn_kwargs)\n",
      "C:\\Anaconda3\\lib\\site-packages\\sklearn\\utils\\deprecation.py:122: FutureWarning: You are accessing a training score ('split3_train_score'), which will not be available by default any more in 0.21. If you need training scores, please set return_train_score=True\n",
      "  warnings.warn(*warn_args, **warn_kwargs)\n",
      "C:\\Anaconda3\\lib\\site-packages\\sklearn\\utils\\deprecation.py:122: FutureWarning: You are accessing a training score ('split4_train_score'), which will not be available by default any more in 0.21. If you need training scores, please set return_train_score=True\n",
      "  warnings.warn(*warn_args, **warn_kwargs)\n",
      "C:\\Anaconda3\\lib\\site-packages\\sklearn\\utils\\deprecation.py:122: FutureWarning: You are accessing a training score ('std_train_score'), which will not be available by default any more in 0.21. If you need training scores, please set return_train_score=True\n",
      "  warnings.warn(*warn_args, **warn_kwargs)\n"
     ]
    },
    {
     "data": {
      "text/plain": [
       "{'mean_fit_time': array([0.00100474, 0.        , 0.00039034, 0.00019999, 0.00020089,\n",
       "        0.00060678, 0.00039878, 0.00019813, 0.00039911]),\n",
       " 'mean_score_time': array([0.00140181, 0.00138383, 0.00039873, 0.0003994 , 0.00039859,\n",
       "        0.0006074 , 0.0003994 , 0.00059705, 0.00039849]),\n",
       " 'mean_test_score': array([0.925     , 0.925     , 0.925     , 0.93333333, 0.94166667,\n",
       "        0.95      , 0.95833333, 0.95833333, 0.95      ]),\n",
       " 'mean_train_score': array([0.9729565 , 0.95424767, 0.9605196 , 0.96049767, 0.96043323,\n",
       "        0.96247404, 0.96668457, 0.96455738, 0.96247404]),\n",
       " 'param_n_neighbors': masked_array(data=[2, 3, 4, 5, 6, 7, 8, 9, 10],\n",
       "              mask=[False, False, False, False, False, False, False, False,\n",
       "                    False],\n",
       "        fill_value='?',\n",
       "             dtype=object),\n",
       " 'params': [{'n_neighbors': 2},\n",
       "  {'n_neighbors': 3},\n",
       "  {'n_neighbors': 4},\n",
       "  {'n_neighbors': 5},\n",
       "  {'n_neighbors': 6},\n",
       "  {'n_neighbors': 7},\n",
       "  {'n_neighbors': 8},\n",
       "  {'n_neighbors': 9},\n",
       "  {'n_neighbors': 10}],\n",
       " 'rank_test_score': array([7, 7, 7, 6, 5, 3, 1, 1, 3]),\n",
       " 'split0_test_score': array([0.92, 0.92, 0.92, 0.96, 0.96, 0.96, 0.96, 0.96, 0.96]),\n",
       " 'split0_train_score': array([0.96842105, 0.96842105, 0.97894737, 0.96842105, 0.97894737,\n",
       "        0.95789474, 0.96842105, 0.96842105, 0.96842105]),\n",
       " 'split1_test_score': array([0.84, 0.84, 0.84, 0.88, 0.88, 0.96, 0.96, 0.96, 0.92]),\n",
       " 'split1_train_score': array([0.98947368, 0.96842105, 0.96842105, 0.96842105, 0.94736842,\n",
       "        0.96842105, 0.97894737, 0.95789474, 0.95789474]),\n",
       " 'split2_test_score': array([1.        , 1.        , 1.        , 0.95833333, 1.        ,\n",
       "        1.        , 1.        , 1.        , 1.        ]),\n",
       " 'split2_train_score': array([0.96875   , 0.92708333, 0.9375    , 0.95833333, 0.94791667,\n",
       "        0.94791667, 0.94791667, 0.95833333, 0.94791667]),\n",
       " 'split3_test_score': array([0.91666667, 0.95833333, 0.95833333, 0.95833333, 0.91666667,\n",
       "        0.91666667, 0.91666667, 0.95833333, 0.91666667]),\n",
       " 'split3_train_score': array([0.96875   , 0.95833333, 0.96875   , 0.95833333, 0.96875   ,\n",
       "        0.96875   , 0.96875   , 0.96875   , 0.96875   ]),\n",
       " 'split4_test_score': array([0.95454545, 0.90909091, 0.90909091, 0.90909091, 0.95454545,\n",
       "        0.90909091, 0.95454545, 0.90909091, 0.95454545]),\n",
       " 'split4_train_score': array([0.96938776, 0.94897959, 0.94897959, 0.94897959, 0.95918367,\n",
       "        0.96938776, 0.96938776, 0.96938776, 0.96938776]),\n",
       " 'std_fit_time': array([0.00063259, 0.        , 0.00047821, 0.00039997, 0.00040178,\n",
       "        0.00049564, 0.0004884 , 0.00039625, 0.00048881]),\n",
       " 'std_score_time': array([0.00080205, 0.00077436, 0.00048835, 0.00048916, 0.00048817,\n",
       "        0.00081434, 0.00048916, 0.00048749, 0.00048805]),\n",
       " 'std_test_score': array([0.05300324, 0.05388915, 0.05388915, 0.0331434 , 0.04120961,\n",
       "        0.03272166, 0.02642409, 0.028159  , 0.03056703]),\n",
       " 'std_train_score': array([0.00826454, 0.01538906, 0.0150521 , 0.00731567, 0.01217257,\n",
       "        0.00843138, 0.01017054, 0.00527197, 0.00843138])}"
      ]
     },
     "execution_count": 22,
     "metadata": {},
     "output_type": "execute_result"
    }
   ],
   "source": [
    "grid.cv_results_"
   ]
  },
  {
   "cell_type": "code",
   "execution_count": null,
   "metadata": {},
   "outputs": [],
   "source": [
    "param_grid = {'svc__C':[.001,.01,.1,1,10,100],\n",
    "             'svc__gamma':[.0001,.001,.01,1,10,100]}\n",
    "\n",
    "grid_pipeline = GridSearchCV(pipeline,param_grid=param_grid,cv=3)"
   ]
  }
 ],
 "metadata": {
  "kernelspec": {
   "display_name": "Python 3",
   "language": "python",
   "name": "python3"
  },
  "language_info": {
   "codemirror_mode": {
    "name": "ipython",
    "version": 3
   },
   "file_extension": ".py",
   "mimetype": "text/x-python",
   "name": "python",
   "nbconvert_exporter": "python",
   "pygments_lexer": "ipython3",
   "version": "3.6.4"
  }
 },
 "nbformat": 4,
 "nbformat_minor": 2
}
